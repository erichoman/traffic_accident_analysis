{
  "cells": [
    {
      "cell_type": "code",
      "execution_count": null,
      "metadata": {
        "id": "NbEU6eDcqFfi"
      },
      "outputs": [],
      "source": [
        "import pandas as pd\n",
        "from pandas import DataFrame\n",
        "import numpy as np\n",
        "import matplotlib.pyplot as plt\n",
        "import seaborn as sns"
      ]
    },
    {
      "cell_type": "code",
      "execution_count": null,
      "metadata": {
        "id": "Vz-6RKCFqWu3"
      },
      "outputs": [],
      "source": [
        "data = pd.read_csv('./US_Accidents_March23.csv')"
      ]
    },
    {
      "cell_type": "code",
      "execution_count": null,
      "metadata": {
        "colab": {
          "base_uri": "https://localhost:8080/",
          "height": 342
        },
        "id": "pEVyYYFlq4CV",
        "outputId": "1fa351bf-361f-4fd9-fe32-04940a2f94ba"
      },
      "outputs": [
        {
          "data": {
            "text/html": [
              "<div>\n",
              "<style scoped>\n",
              "    .dataframe tbody tr th:only-of-type {\n",
              "        vertical-align: middle;\n",
              "    }\n",
              "\n",
              "    .dataframe tbody tr th {\n",
              "        vertical-align: top;\n",
              "    }\n",
              "\n",
              "    .dataframe thead th {\n",
              "        text-align: right;\n",
              "    }\n",
              "</style>\n",
              "<table border=\"1\" class=\"dataframe\">\n",
              "  <thead>\n",
              "    <tr style=\"text-align: right;\">\n",
              "      <th></th>\n",
              "      <th>ID</th>\n",
              "      <th>Source</th>\n",
              "      <th>Severity</th>\n",
              "      <th>Start_Time</th>\n",
              "      <th>End_Time</th>\n",
              "      <th>Start_Lat</th>\n",
              "      <th>Start_Lng</th>\n",
              "      <th>End_Lat</th>\n",
              "      <th>End_Lng</th>\n",
              "      <th>Distance(mi)</th>\n",
              "      <th>...</th>\n",
              "      <th>Roundabout</th>\n",
              "      <th>Station</th>\n",
              "      <th>Stop</th>\n",
              "      <th>Traffic_Calming</th>\n",
              "      <th>Traffic_Signal</th>\n",
              "      <th>Turning_Loop</th>\n",
              "      <th>Sunrise_Sunset</th>\n",
              "      <th>Civil_Twilight</th>\n",
              "      <th>Nautical_Twilight</th>\n",
              "      <th>Astronomical_Twilight</th>\n",
              "    </tr>\n",
              "  </thead>\n",
              "  <tbody>\n",
              "    <tr>\n",
              "      <th>0</th>\n",
              "      <td>A-1</td>\n",
              "      <td>Source2</td>\n",
              "      <td>3</td>\n",
              "      <td>2016-02-08 05:46:00</td>\n",
              "      <td>2016-02-08 11:00:00</td>\n",
              "      <td>39.865147</td>\n",
              "      <td>-84.058723</td>\n",
              "      <td>NaN</td>\n",
              "      <td>NaN</td>\n",
              "      <td>0.01</td>\n",
              "      <td>...</td>\n",
              "      <td>False</td>\n",
              "      <td>False</td>\n",
              "      <td>False</td>\n",
              "      <td>False</td>\n",
              "      <td>False</td>\n",
              "      <td>False</td>\n",
              "      <td>Night</td>\n",
              "      <td>Night</td>\n",
              "      <td>Night</td>\n",
              "      <td>Night</td>\n",
              "    </tr>\n",
              "    <tr>\n",
              "      <th>1</th>\n",
              "      <td>A-2</td>\n",
              "      <td>Source2</td>\n",
              "      <td>2</td>\n",
              "      <td>2016-02-08 06:07:59</td>\n",
              "      <td>2016-02-08 06:37:59</td>\n",
              "      <td>39.928059</td>\n",
              "      <td>-82.831184</td>\n",
              "      <td>NaN</td>\n",
              "      <td>NaN</td>\n",
              "      <td>0.01</td>\n",
              "      <td>...</td>\n",
              "      <td>False</td>\n",
              "      <td>False</td>\n",
              "      <td>False</td>\n",
              "      <td>False</td>\n",
              "      <td>False</td>\n",
              "      <td>False</td>\n",
              "      <td>Night</td>\n",
              "      <td>Night</td>\n",
              "      <td>Night</td>\n",
              "      <td>Day</td>\n",
              "    </tr>\n",
              "    <tr>\n",
              "      <th>2</th>\n",
              "      <td>A-3</td>\n",
              "      <td>Source2</td>\n",
              "      <td>2</td>\n",
              "      <td>2016-02-08 06:49:27</td>\n",
              "      <td>2016-02-08 07:19:27</td>\n",
              "      <td>39.063148</td>\n",
              "      <td>-84.032608</td>\n",
              "      <td>NaN</td>\n",
              "      <td>NaN</td>\n",
              "      <td>0.01</td>\n",
              "      <td>...</td>\n",
              "      <td>False</td>\n",
              "      <td>False</td>\n",
              "      <td>False</td>\n",
              "      <td>False</td>\n",
              "      <td>True</td>\n",
              "      <td>False</td>\n",
              "      <td>Night</td>\n",
              "      <td>Night</td>\n",
              "      <td>Day</td>\n",
              "      <td>Day</td>\n",
              "    </tr>\n",
              "    <tr>\n",
              "      <th>3</th>\n",
              "      <td>A-4</td>\n",
              "      <td>Source2</td>\n",
              "      <td>3</td>\n",
              "      <td>2016-02-08 07:23:34</td>\n",
              "      <td>2016-02-08 07:53:34</td>\n",
              "      <td>39.747753</td>\n",
              "      <td>-84.205582</td>\n",
              "      <td>NaN</td>\n",
              "      <td>NaN</td>\n",
              "      <td>0.01</td>\n",
              "      <td>...</td>\n",
              "      <td>False</td>\n",
              "      <td>False</td>\n",
              "      <td>False</td>\n",
              "      <td>False</td>\n",
              "      <td>False</td>\n",
              "      <td>False</td>\n",
              "      <td>Night</td>\n",
              "      <td>Day</td>\n",
              "      <td>Day</td>\n",
              "      <td>Day</td>\n",
              "    </tr>\n",
              "    <tr>\n",
              "      <th>4</th>\n",
              "      <td>A-5</td>\n",
              "      <td>Source2</td>\n",
              "      <td>2</td>\n",
              "      <td>2016-02-08 07:39:07</td>\n",
              "      <td>2016-02-08 08:09:07</td>\n",
              "      <td>39.627781</td>\n",
              "      <td>-84.188354</td>\n",
              "      <td>NaN</td>\n",
              "      <td>NaN</td>\n",
              "      <td>0.01</td>\n",
              "      <td>...</td>\n",
              "      <td>False</td>\n",
              "      <td>False</td>\n",
              "      <td>False</td>\n",
              "      <td>False</td>\n",
              "      <td>True</td>\n",
              "      <td>False</td>\n",
              "      <td>Day</td>\n",
              "      <td>Day</td>\n",
              "      <td>Day</td>\n",
              "      <td>Day</td>\n",
              "    </tr>\n",
              "  </tbody>\n",
              "</table>\n",
              "<p>5 rows × 46 columns</p>\n",
              "</div>"
            ],
            "text/plain": [
              "    ID   Source  Severity           Start_Time             End_Time  \\\n",
              "0  A-1  Source2         3  2016-02-08 05:46:00  2016-02-08 11:00:00   \n",
              "1  A-2  Source2         2  2016-02-08 06:07:59  2016-02-08 06:37:59   \n",
              "2  A-3  Source2         2  2016-02-08 06:49:27  2016-02-08 07:19:27   \n",
              "3  A-4  Source2         3  2016-02-08 07:23:34  2016-02-08 07:53:34   \n",
              "4  A-5  Source2         2  2016-02-08 07:39:07  2016-02-08 08:09:07   \n",
              "\n",
              "   Start_Lat  Start_Lng  End_Lat  End_Lng  Distance(mi)  ... Roundabout  \\\n",
              "0  39.865147 -84.058723      NaN      NaN          0.01  ...      False   \n",
              "1  39.928059 -82.831184      NaN      NaN          0.01  ...      False   \n",
              "2  39.063148 -84.032608      NaN      NaN          0.01  ...      False   \n",
              "3  39.747753 -84.205582      NaN      NaN          0.01  ...      False   \n",
              "4  39.627781 -84.188354      NaN      NaN          0.01  ...      False   \n",
              "\n",
              "  Station   Stop Traffic_Calming Traffic_Signal Turning_Loop Sunrise_Sunset  \\\n",
              "0   False  False           False          False        False          Night   \n",
              "1   False  False           False          False        False          Night   \n",
              "2   False  False           False           True        False          Night   \n",
              "3   False  False           False          False        False          Night   \n",
              "4   False  False           False           True        False            Day   \n",
              "\n",
              "  Civil_Twilight Nautical_Twilight Astronomical_Twilight  \n",
              "0          Night             Night                 Night  \n",
              "1          Night             Night                   Day  \n",
              "2          Night               Day                   Day  \n",
              "3            Day               Day                   Day  \n",
              "4            Day               Day                   Day  \n",
              "\n",
              "[5 rows x 46 columns]"
            ]
          },
          "execution_count": 3,
          "metadata": {},
          "output_type": "execute_result"
        }
      ],
      "source": [
        "data.head()"
      ]
    },
    {
      "cell_type": "code",
      "execution_count": null,
      "metadata": {
        "colab": {
          "base_uri": "https://localhost:8080/"
        },
        "id": "kjjQyG9_WraK",
        "outputId": "7fa13074-31b3-4f63-c7ef-7c0061613d86"
      },
      "outputs": [
        {
          "data": {
            "text/plain": [
              "Index(['ID', 'Source', 'Severity', 'Start_Time', 'End_Time', 'Start_Lat',\n",
              "       'Start_Lng', 'End_Lat', 'End_Lng', 'Distance(mi)', 'Description',\n",
              "       'Street', 'City', 'County', 'State', 'Zipcode', 'Country', 'Timezone',\n",
              "       'Airport_Code', 'Weather_Timestamp', 'Temperature(F)', 'Wind_Chill(F)',\n",
              "       'Humidity(%)', 'Pressure(in)', 'Visibility(mi)', 'Wind_Direction',\n",
              "       'Wind_Speed(mph)', 'Precipitation(in)', 'Weather_Condition', 'Amenity',\n",
              "       'Bump', 'Crossing', 'Give_Way', 'Junction', 'No_Exit', 'Railway',\n",
              "       'Roundabout', 'Station', 'Stop', 'Traffic_Calming', 'Traffic_Signal',\n",
              "       'Turning_Loop', 'Sunrise_Sunset', 'Civil_Twilight', 'Nautical_Twilight',\n",
              "       'Astronomical_Twilight'],\n",
              "      dtype='object')"
            ]
          },
          "execution_count": 4,
          "metadata": {},
          "output_type": "execute_result"
        }
      ],
      "source": [
        "data.columns"
      ]
    },
    {
      "cell_type": "markdown",
      "metadata": {
        "id": "Ug8_EIkl1woc"
      },
      "source": [
        "DROP becuase  more than 90% missing"
      ]
    },
    {
      "cell_type": "code",
      "execution_count": null,
      "metadata": {
        "id": "zJDOP8rU1wod"
      },
      "outputs": [],
      "source": [
        "\n",
        "data = data.drop('End_Lat', axis=1)\n",
        "data = data.drop('End_Lng', axis=1)"
      ]
    },
    {
      "cell_type": "code",
      "execution_count": null,
      "metadata": {
        "id": "Ik4aE5sl1wod",
        "outputId": "a4308c89-aa4f-48fe-ab8c-0015e7fcefd6"
      },
      "outputs": [
        {
          "name": "stdout",
          "output_type": "stream",
          "text": [
            "Index(['Severity', 'Start_Lat', 'Start_Lng', 'Distance(mi)', 'Temperature(F)',\n",
            "       'Wind_Chill(F)', 'Humidity(%)', 'Pressure(in)', 'Visibility(mi)',\n",
            "       'Wind_Speed(mph)', 'Precipitation(in)'],\n",
            "      dtype='object')\n"
          ]
        }
      ],
      "source": [
        "num_data = data.select_dtypes(include=[np.number])\n",
        "print(num_data.columns)"
      ]
    },
    {
      "cell_type": "markdown",
      "metadata": {
        "id": "mTZ-s3L_1wod"
      },
      "source": [
        "# Check for Missing Values"
      ]
    },
    {
      "cell_type": "code",
      "execution_count": null,
      "metadata": {
        "id": "NmrvXJv51wod"
      },
      "outputs": [],
      "source": [
        "\n",
        "def check_missing_values(data):\n",
        "    missing_counts = data.isnull().sum()\n",
        "    missing_percentage = (missing_counts / len(data)) * 100\n",
        "    missing_df = pd.DataFrame({'Missing Count': missing_counts, 'Missing Percentage': missing_percentage})\n",
        "    missing_df = missing_df[missing_df['Missing Count'] > 0]\n",
        "    print(missing_df.sort_values(by='Missing Percentage', ascending=False))\n",
        "\n",
        "# check_missing_values(data)"
      ]
    },
    {
      "cell_type": "markdown",
      "metadata": {
        "id": "TviSNyNA1woe"
      },
      "source": [
        "### Check Wind_Chill(F) for MCAR or MAR"
      ]
    },
    {
      "cell_type": "code",
      "execution_count": null,
      "metadata": {
        "id": "NHDyVBY-1woe"
      },
      "outputs": [],
      "source": [
        "data.loc[data['Wind_Chill(F)'].isnull()==True,'Missing_Wind_Chill']=1\n",
        "data.loc[data['Wind_Chill(F)'].isnull()==False,'Missing_Wind_Chill']=0"
      ]
    },
    {
      "cell_type": "markdown",
      "metadata": {
        "id": "u9nyacs-1woe"
      },
      "source": [
        "Check the link with the following variables:\n",
        "Humidity(%)', 'Pressure(in)', 'Visibility(mi)',\n",
        "       'Wind_Speed(mph)', 'Wind_Speed(mph), Severity.\n",
        "\n",
        "       1 = Missing, 0 else"
      ]
    },
    {
      "cell_type": "code",
      "execution_count": null,
      "metadata": {
        "id": "56tH392a1woe",
        "outputId": "78f10d7f-bd47-4bed-bb71-7c6117e0848a"
      },
      "outputs": [
        {
          "data": {
            "image/png": "[encoded data removed]",
            "text/plain": [
              "<Figure size 1800x1000 with 6 Axes>"
            ]
          },
          "metadata": {},
          "output_type": "display_data"
        }
      ],
      "source": [
        "fig, axes = plt.subplots(2, 3, figsize=(18, 10))\n",
        "dfHumidity = data.pivot(columns='Missing_Wind_Chill', values=['Humidity(%)'])['Humidity(%)']\n",
        "dfPressure = data.pivot(columns='Missing_Wind_Chill', values=['Pressure(in)'])['Pressure(in)']\n",
        "dfVisibility = data.pivot(columns='Missing_Wind_Chill', values=['Visibility(mi)'])['Visibility(mi)']\n",
        "dfWind_speed = data.pivot(columns='Missing_Wind_Chill', values=['Wind_Speed(mph)'])['Wind_Speed(mph)']\n",
        "dfPrecipitation = data.pivot(columns='Missing_Wind_Chill', values=['Precipitation(in)'])['Precipitation(in)']\n",
        "dfSeverity = data.pivot(columns='Missing_Wind_Chill', values=['Severity'])['Severity']\n",
        "\n",
        "dfHumidity.boxplot(column=[0,1], ax=axes[0, 0], grid=False)\n",
        "dfPressure.boxplot(column=[0,1], ax=axes[0, 1], grid=False)\n",
        "dfVisibility.boxplot(column=[0,1], ax=axes[0, 2], grid=False)\n",
        "dfWind_speed.boxplot(column=[0,1], ax=axes[1, 0], grid=False)\n",
        "dfPrecipitation.boxplot(column=[0,1], ax=axes[1, 1], grid=False)\n",
        "dfSeverity.boxplot(column=[0,1], ax=axes[1, 2], grid=False)\n",
        "\n",
        "axes[0, 0].set_title('Humidity(%)')\n",
        "axes[0, 1].set_title('Pressure(in)')\n",
        "axes[0, 2].set_title('Visibility(mi)')\n",
        "axes[1, 0].set_title('Wind_Speed(mph)')\n",
        "axes[1, 1].set_title('Precipitation(in)')\n",
        "axes[1, 2].set_title('Severity')\n",
        "plt.tight_layout()\n",
        "plt.show()\n"
      ]
    },
    {
      "cell_type": "markdown",
      "metadata": {
        "id": "HxSc94ot1woe"
      },
      "source": [
        "No particular result, Y values have more datapoints so it is coherent for them to have more outliers. However there seems to be a small correlation with Windspeed.\n",
        "My assumption is that Wind speed may be a predictable variable and would be classed as MAR"
      ]
    },
    {
      "cell_type": "markdown",
      "metadata": {
        "id": "b2oKcXVm1woe"
      },
      "source": [
        "### Preprocess Wind speed to all calm are 1 and others are 0"
      ]
    },
    {
      "cell_type": "code",
      "execution_count": null,
      "metadata": {
        "id": "g_Ox0Y-K1woe"
      },
      "outputs": [],
      "source": [
        "data.loc[data['Wind_Direction'] == 'Calm','Calm_Wind']=1\n",
        "data.loc[data['Wind_Direction'] != 'Calm','Calm_Wind']=0"
      ]
    },
    {
      "cell_type": "code",
      "execution_count": null,
      "metadata": {
        "id": "4jiPKHip1wof",
        "outputId": "4a63d7ed-31c7-4cc6-fc53-c951a58431d9"
      },
      "outputs": [
        {
          "data": {
            "text/plain": [
              "0.37884660301580997"
            ]
          },
          "execution_count": 11,
          "metadata": {},
          "output_type": "execute_result"
        }
      ],
      "source": [
        "data['Calm_Wind'].corr(data['Missing_Wind_Chill'])"
      ]
    },
    {
      "cell_type": "markdown",
      "metadata": {
        "id": "ItNorRid1wof"
      },
      "source": [
        "### Conclusion: drop Wind_Chill because there is too much correlation with Wind_Direction makes more sense and is better detailed."
      ]
    },
    {
      "cell_type": "markdown",
      "metadata": {
        "id": "ee9WBqWM1wof"
      },
      "source": [
        "We can also drop precipitation as it is a useless and skewd feature according to previous studdies"
      ]
    },
    {
      "cell_type": "code",
      "execution_count": null,
      "metadata": {
        "id": "TMUsO3CU1wof"
      },
      "outputs": [],
      "source": [
        "data = data.drop(\"Precipitation(in)\", axis=1)"
      ]
    },
    {
      "cell_type": "code",
      "execution_count": null,
      "metadata": {
        "id": "wgQsakCr1wof",
        "outputId": "bb3032ce-4bc7-4e55-9cda-009bdc216dad"
      },
      "outputs": [
        {
          "name": "stdout",
          "output_type": "stream",
          "text": [
            "Index(['Severity', 'Start_Time', 'City', 'County', 'State', 'Temperature(F)',\n",
            "       'Humidity(%)', 'Pressure(in)', 'Visibility(mi)', 'Wind_Direction',\n",
            "       'Wind_Speed(mph)', 'Precipitation(in)', 'Weather_Condition', 'Crossing',\n",
            "       'Junction', 'Station', 'Stop', 'Traffic_Signal', 'Sunrise_Sunset',\n",
            "       'Civil_Twilight', 'Nautical_Twilight', 'Astronomical_Twilight',\n",
            "       'Missing_Wind_Chill', 'Calm_Wind'],\n",
            "      dtype='object')\n"
          ]
        }
      ],
      "source": [
        "data = data.drop(\"End_Time\", axis=1)\n",
        "data = data.drop(\"ID\", axis=1)\n",
        "data = data.drop(\"Source\", axis=1)\n",
        "data = data.drop(\"Start_Lat\", axis=1)\n",
        "data = data.drop(\"Start_Lng\", axis=1)\n",
        "data = data.drop(\"Wind_Chill(F)\", axis=1)\n",
        "data = data.drop(\"Distance(mi)\", axis=1)\n",
        "data = data.drop(\"Description\", axis=1)\n",
        "data = data.drop(\"Street\", axis=1)\n",
        "data = data.drop(\"Country\", axis=1)\n",
        "data = data.drop(\"Zipcode\", axis=1)\n",
        "data = data.drop(\"Timezone\", axis=1)\n",
        "data = data.drop(\"Airport_Code\", axis=1)\n",
        "data = data.drop(\"Weather_Timestamp\", axis=1)\n",
        "data = data.drop(\"Amenity\", axis=1)\n",
        "data = data.drop(\"Bump\", axis=1)\n",
        "data = data.drop(\"Give_Way\", axis=1)\n",
        "data = data.drop(\"No_Exit\", axis=1)\n",
        "data = data.drop(\"Railway\", axis=1)\n",
        "data = data.drop(\"Roundabout\", axis=1)\n",
        "data = data.drop(\"Traffic_Calming\", axis=1)\n",
        "data = data.drop(\"Turning_Loop\", axis=1)\n",
        "\n",
        "print(data.columns)"
      ]
    },
    {
      "cell_type": "markdown",
      "metadata": {
        "id": "Uj-oIalm1wof"
      },
      "source": [
        "The following code tests the impact of variable \"Text_data\" (any column) with severity to check for correlation"
      ]
    },
    {
      "cell_type": "code",
      "execution_count": null,
      "metadata": {
        "id": "LCa-o75n1wof",
        "outputId": "332caf1e-c578-4eeb-c6a4-a3c460c42271"
      },
      "outputs": [
        {
          "data": {
            "image/png": "[encoded data removed]",
            "text/plain": [
              "<Figure size 800x600 with 1 Axes>"
            ]
          },
          "metadata": {},
          "output_type": "display_data"
        }
      ],
      "source": [
        "Text_data = \"Crossing\"\n",
        "fig, ax = plt.subplots(figsize=(8, 6))\n",
        "data.boxplot(column=\"Severity\", by=Text_data, ax=ax, grid=False)\n",
        "\n",
        "ax.set_title(\"Severity Distribution by Give_Way\")\n",
        "ax.set_xlabel(\"Give_Way\")\n",
        "ax.set_ylabel(\"Severity\")\n",
        "plt.suptitle(\"\")\n",
        "plt.show()"
      ]
    },
    {
      "cell_type": "markdown",
      "metadata": {
        "id": "pvGC6HwF1wof"
      },
      "source": [
        "# Methodology\n",
        "\n",
        "1: Drop useless columns by analysing there distribution\n",
        "\n",
        "2: twilight handling and creation of an index of sight based on twilights\n",
        "\n",
        "3: Try T-test to check null hypothesis of knowing if a variable change has an impact on the result. Also try and find correlations with missing values and non missing values to check MAR and MCAR"
      ]
    },
    {
      "cell_type": "code",
      "execution_count": null,
      "metadata": {
        "id": "_oi1_zPu1wog",
        "outputId": "e1e20802-5968-45f1-de9f-2a4020edf391"
      },
      "outputs": [
        {
          "name": "stdout",
          "output_type": "stream",
          "text": [
            "                       Missing Count  Missing Percentage\n",
            "Precipitation(in)            2203586           28.512858\n",
            "Wind_Speed(mph)               571233            7.391355\n",
            "Visibility(mi)                177098            2.291524\n",
            "Wind_Direction                175206            2.267043\n",
            "Humidity(%)                   174144            2.253301\n",
            "Weather_Condition             173459            2.244438\n",
            "Temperature(F)                163853            2.120143\n",
            "Pressure(in)                  140679            1.820288\n",
            "Sunrise_Sunset                 23246            0.300787\n",
            "Civil_Twilight                 23246            0.300787\n",
            "Nautical_Twilight              23246            0.300787\n",
            "Astronomical_Twilight          23246            0.300787\n",
            "City                             253            0.003274\n"
          ]
        }
      ],
      "source": [
        "check_missing_values(data)"
      ]
    },
    {
      "cell_type": "markdown",
      "metadata": {
        "id": "lPEDmg9l1wog"
      },
      "source": [
        "### convert into datetime:"
      ]
    },
    {
      "cell_type": "code",
      "execution_count": null,
      "metadata": {
        "id": "ukP2f0TJ1wog"
      },
      "outputs": [],
      "source": [
        "data[\"Start_Time\"] = pd.to_datetime(data[\"Start_Time\"], format='ISO8601', errors='coerce')\n",
        "data[\"Start_Time\"] = pd.to_datetime(data[\"Start_Time\"])"
      ]
    },
    {
      "cell_type": "markdown",
      "metadata": {
        "id": "mETNYSRC1wog"
      },
      "source": [
        "## Handle missing values in twilight and sunrise in using similar timed data"
      ]
    },
    {
      "cell_type": "code",
      "execution_count": null,
      "metadata": {
        "id": "jomWQyDb1wog"
      },
      "outputs": [],
      "source": [
        "data = data.sort_values(by=\"Start_Time\", ascending=True).reset_index(drop=True)"
      ]
    },
    {
      "cell_type": "markdown",
      "metadata": {
        "id": "T4FR_AI01wog"
      },
      "source": [
        "### get the next non missing value for missing data of sunrise_sunset and the others\n",
        "We can do this since the sample is big enough to take the missing values of the next car crash since there are so many. The time doesn't matter since these metrics are not hourly based but luminosity based. We will later concatenate them into one clear luminosity index.\n",
        "\n",
        "The previous version of this code would take the next minute similar time to get the values of the missing data and it almost everytime found it imediatly, so finding the current method is valid and much faster"
      ]
    },
    {
      "cell_type": "code",
      "execution_count": null,
      "metadata": {
        "id": "4I8tSgl_1wog",
        "outputId": "c2bcb412-c88f-4337-a53c-6daab59b5188"
      },
      "outputs": [
        {
          "name": "stderr",
          "output_type": "stream",
          "text": [
            "C:\\Users\\Lucas\\AppData\\Local\\Temp\\ipykernel_20424\\3587944450.py:3: FutureWarning: DataFrame.fillna with 'method' is deprecated and will raise in a future version. Use obj.ffill() or obj.bfill() instead.\n",
            "  data[fill_cols] = data[fill_cols].fillna(method=\"bfill\")\n"
          ]
        }
      ],
      "source": [
        "fill_cols = [\"Sunrise_Sunset\", \"Astronomical_Twilight\", \"Civil_Twilight\", \"Nautical_Twilight\"]\n",
        "data[fill_cols] = data[fill_cols].fillna(method=\"bfill\")"
      ]
    },
    {
      "cell_type": "code",
      "execution_count": null,
      "metadata": {
        "id": "mTTtf3m_1wog"
      },
      "outputs": [],
      "source": [
        "def calculate_luminosity(row):\n",
        "    night_count = sum([1 for value in [row['Sunrise_Sunset'], row['Civil_Twilight'], row['Nautical_Twilight'], row['Astronomical_Twilight']] if value == 'Night'])\n",
        "\n",
        "    if night_count == 0:\n",
        "        return 1\n",
        "    elif night_count == 1:\n",
        "        return 0.75\n",
        "    elif night_count == 2:\n",
        "        return 0.5\n",
        "    elif night_count == 3:\n",
        "        return 0.25\n",
        "    else:\n",
        "        return 0\n",
        "\n",
        "data['Luminosity'] = data.apply(calculate_luminosity, axis=1)"
      ]
    },
    {
      "cell_type": "code",
      "execution_count": null,
      "metadata": {
        "id": "uzrANtaF1woh",
        "outputId": "659b11a4-da9e-4239-c65d-257c8cf1d560"
      },
      "outputs": [
        {
          "data": {
            "text/plain": [
              "count    7.728394e+06\n",
              "mean     7.618733e-01\n",
              "std      3.907462e-01\n",
              "min      0.000000e+00\n",
              "25%      5.000000e-01\n",
              "50%      1.000000e+00\n",
              "75%      1.000000e+00\n",
              "max      1.000000e+00\n",
              "Name: Luminosity, dtype: float64"
            ]
          },
          "execution_count": 19,
          "metadata": {},
          "output_type": "execute_result"
        }
      ],
      "source": [
        "data['Luminosity'].describe()"
      ]
    },
    {
      "cell_type": "markdown",
      "metadata": {
        "id": "hDk2AIib1woh"
      },
      "source": [
        "Now that we have the numerical luminosity index we can drop these categorical ones"
      ]
    },
    {
      "cell_type": "code",
      "execution_count": null,
      "metadata": {
        "id": "SFs8P0ax1woh"
      },
      "outputs": [],
      "source": [
        "data = data.drop(\"Sunrise_Sunset\", axis=1)\n",
        "data = data.drop(\"Astronomical_Twilight\", axis=1)\n",
        "data = data.drop(\"Nautical_Twilight\", axis=1)\n",
        "data = data.drop(\"Civil_Twilight\", axis=1)"
      ]
    },
    {
      "cell_type": "code",
      "execution_count": null,
      "metadata": {
        "id": "gCG7Qk-y1woh",
        "outputId": "f2d770f9-bb5f-4841-bd1c-a0bf6b066fe5"
      },
      "outputs": [
        {
          "name": "stdout",
          "output_type": "stream",
          "text": [
            "Index(['Severity', 'Start_Time', 'City', 'County', 'State', 'Temperature(F)',\n",
            "       'Humidity(%)', 'Pressure(in)', 'Visibility(mi)', 'Wind_Direction',\n",
            "       'Wind_Speed(mph)', 'Precipitation(in)', 'Weather_Condition', 'Crossing',\n",
            "       'Junction', 'Station', 'Stop', 'Traffic_Signal', 'Luminosity'],\n",
            "      dtype='object')\n"
          ]
        }
      ],
      "source": [
        "data = data.drop(\"Missing_Wind_Chill\", axis=1)\n",
        "data = data.drop(\"Calm_Wind\", axis=1)\n",
        "print(data.columns)"
      ]
    },
    {
      "cell_type": "markdown",
      "metadata": {
        "id": "wVdpUAZ41woh"
      },
      "source": [
        "(Try T-test to check null hypothesis of knowing if a variable change has an impact on the result?)"
      ]
    },
    {
      "cell_type": "code",
      "execution_count": null,
      "metadata": {
        "id": "-d1tewEO1woi",
        "outputId": "1aca3a69-c137-4c9b-919a-6f766c65b70f"
      },
      "outputs": [
        {
          "name": "stdout",
          "output_type": "stream",
          "text": [
            "             Feature  VIF_Factor\n",
            "0              const  777.699146\n",
            "1           Severity    1.003746\n",
            "2     Temperature(F)    1.287550\n",
            "3        Humidity(%)    1.439568\n",
            "4       Pressure(in)    1.078521\n",
            "5     Visibility(mi)    1.262825\n",
            "6    Wind_Speed(mph)    1.061213\n",
            "7  Precipitation(in)    1.026812\n",
            "8         Luminosity    1.169507\n"
          ]
        }
      ],
      "source": [
        "\n",
        "from statsmodels.stats.outliers_influence import variance_inflation_factor\n",
        "import statsmodels.api as sm\n",
        "\n",
        "numerical_cols = data.select_dtypes(include=np.number).columns\n",
        "X = data[numerical_cols].replace([np.inf, -np.inf], np.nan).dropna()\n",
        "X = sm.add_constant(X)\n",
        "vif = pd.DataFrame()\n",
        "vif[\"Feature\"] = X.columns\n",
        "vif[\"VIF_Factor\"] = [variance_inflation_factor(X.values, i) for i in range(X.shape[1])]\n",
        "print(vif)"
      ]
    },
    {
      "cell_type": "markdown",
      "metadata": {
        "id": "CMMAYw1R1woi"
      },
      "source": [
        "No multicolinearity on numerical features"
      ]
    },
    {
      "cell_type": "code",
      "execution_count": null,
      "metadata": {
        "id": "tCbf6ARP1wok",
        "outputId": "774cf3e2-36da-4a4a-d2a6-28bf32aed788"
      },
      "outputs": [
        {
          "data": {
            "text/html": [
              "<style type=\"text/css\">\n",
              "#T_dd0ea_row0_col0, #T_dd0ea_row1_col1, #T_dd0ea_row2_col2, #T_dd0ea_row3_col3, #T_dd0ea_row4_col4, #T_dd0ea_row5_col5, #T_dd0ea_row6_col6, #T_dd0ea_row7_col7 {\n",
              "  background-color: #b40426;\n",
              "  color: #f1f1f1;\n",
              "}\n",
              "#T_dd0ea_row0_col1, #T_dd0ea_row0_col6, #T_dd0ea_row1_col0, #T_dd0ea_row1_col5, #T_dd0ea_row2_col0, #T_dd0ea_row6_col0 {\n",
              "  background-color: #3f53c6;\n",
              "  color: #f1f1f1;\n",
              "}\n",
              "#T_dd0ea_row0_col2, #T_dd0ea_row0_col4, #T_dd0ea_row1_col6, #T_dd0ea_row4_col0, #T_dd0ea_row4_col5, #T_dd0ea_row6_col1, #T_dd0ea_row6_col3, #T_dd0ea_row6_col7, #T_dd0ea_row7_col6 {\n",
              "  background-color: #3b4cc0;\n",
              "  color: #f1f1f1;\n",
              "}\n",
              "#T_dd0ea_row0_col3, #T_dd0ea_row0_col5, #T_dd0ea_row3_col7 {\n",
              "  background-color: #4257c9;\n",
              "  color: #f1f1f1;\n",
              "}\n",
              "#T_dd0ea_row0_col7, #T_dd0ea_row5_col3, #T_dd0ea_row7_col0 {\n",
              "  background-color: #3c4ec2;\n",
              "  color: #f1f1f1;\n",
              "}\n",
              "#T_dd0ea_row1_col2 {\n",
              "  background-color: #a3c2fe;\n",
              "  color: #000000;\n",
              "}\n",
              "#T_dd0ea_row1_col3, #T_dd0ea_row3_col2 {\n",
              "  background-color: #5875e1;\n",
              "  color: #f1f1f1;\n",
              "}\n",
              "#T_dd0ea_row1_col4, #T_dd0ea_row4_col1 {\n",
              "  background-color: #80a3fa;\n",
              "  color: #f1f1f1;\n",
              "}\n",
              "#T_dd0ea_row1_col7, #T_dd0ea_row7_col1 {\n",
              "  background-color: #9abbff;\n",
              "  color: #000000;\n",
              "}\n",
              "#T_dd0ea_row2_col1 {\n",
              "  background-color: #a7c5fe;\n",
              "  color: #000000;\n",
              "}\n",
              "#T_dd0ea_row2_col3 {\n",
              "  background-color: #5977e3;\n",
              "  color: #f1f1f1;\n",
              "}\n",
              "#T_dd0ea_row2_col4 {\n",
              "  background-color: #bad0f8;\n",
              "  color: #000000;\n",
              "}\n",
              "#T_dd0ea_row2_col5 {\n",
              "  background-color: #6c8ff1;\n",
              "  color: #f1f1f1;\n",
              "}\n",
              "#T_dd0ea_row2_col6 {\n",
              "  background-color: #506bda;\n",
              "  color: #f1f1f1;\n",
              "}\n",
              "#T_dd0ea_row2_col7 {\n",
              "  background-color: #89acfd;\n",
              "  color: #000000;\n",
              "}\n",
              "#T_dd0ea_row3_col0, #T_dd0ea_row5_col0 {\n",
              "  background-color: #455cce;\n",
              "  color: #f1f1f1;\n",
              "}\n",
              "#T_dd0ea_row3_col1 {\n",
              "  background-color: #5a78e4;\n",
              "  color: #f1f1f1;\n",
              "}\n",
              "#T_dd0ea_row3_col4 {\n",
              "  background-color: #445acc;\n",
              "  color: #f1f1f1;\n",
              "}\n",
              "#T_dd0ea_row3_col5, #T_dd0ea_row5_col4, #T_dd0ea_row6_col5 {\n",
              "  background-color: #3d50c3;\n",
              "  color: #f1f1f1;\n",
              "}\n",
              "#T_dd0ea_row3_col6, #T_dd0ea_row7_col3 {\n",
              "  background-color: #3e51c5;\n",
              "  color: #f1f1f1;\n",
              "}\n",
              "#T_dd0ea_row4_col2 {\n",
              "  background-color: #b6cefa;\n",
              "  color: #000000;\n",
              "}\n",
              "#T_dd0ea_row4_col3, #T_dd0ea_row5_col6 {\n",
              "  background-color: #4055c8;\n",
              "  color: #f1f1f1;\n",
              "}\n",
              "#T_dd0ea_row4_col6, #T_dd0ea_row6_col4 {\n",
              "  background-color: #5e7de7;\n",
              "  color: #f1f1f1;\n",
              "}\n",
              "#T_dd0ea_row4_col7, #T_dd0ea_row7_col4 {\n",
              "  background-color: #465ecf;\n",
              "  color: #f1f1f1;\n",
              "}\n",
              "#T_dd0ea_row5_col1 {\n",
              "  background-color: #4358cb;\n",
              "  color: #f1f1f1;\n",
              "}\n",
              "#T_dd0ea_row5_col2 {\n",
              "  background-color: #6b8df0;\n",
              "  color: #f1f1f1;\n",
              "}\n",
              "#T_dd0ea_row5_col7 {\n",
              "  background-color: #7093f3;\n",
              "  color: #f1f1f1;\n",
              "}\n",
              "#T_dd0ea_row6_col2 {\n",
              "  background-color: #4b64d5;\n",
              "  color: #f1f1f1;\n",
              "}\n",
              "#T_dd0ea_row7_col2 {\n",
              "  background-color: #85a8fc;\n",
              "  color: #f1f1f1;\n",
              "}\n",
              "#T_dd0ea_row7_col5 {\n",
              "  background-color: #6e90f2;\n",
              "  color: #f1f1f1;\n",
              "}\n",
              "</style>\n",
              "<table id=\"T_dd0ea\">\n",
              "  <thead>\n",
              "    <tr>\n",
              "      <th class=\"blank level0\" >&nbsp;</th>\n",
              "      <th id=\"T_dd0ea_level0_col0\" class=\"col_heading level0 col0\" >Severity</th>\n",
              "      <th id=\"T_dd0ea_level0_col1\" class=\"col_heading level0 col1\" >Temperature(F)</th>\n",
              "      <th id=\"T_dd0ea_level0_col2\" class=\"col_heading level0 col2\" >Humidity(%)</th>\n",
              "      <th id=\"T_dd0ea_level0_col3\" class=\"col_heading level0 col3\" >Pressure(in)</th>\n",
              "      <th id=\"T_dd0ea_level0_col4\" class=\"col_heading level0 col4\" >Visibility(mi)</th>\n",
              "      <th id=\"T_dd0ea_level0_col5\" class=\"col_heading level0 col5\" >Wind_Speed(mph)</th>\n",
              "      <th id=\"T_dd0ea_level0_col6\" class=\"col_heading level0 col6\" >Precipitation(in)</th>\n",
              "      <th id=\"T_dd0ea_level0_col7\" class=\"col_heading level0 col7\" >Luminosity</th>\n",
              "    </tr>\n",
              "  </thead>\n",
              "  <tbody>\n",
              "    <tr>\n",
              "      <th id=\"T_dd0ea_level0_row0\" class=\"row_heading level0 row0\" >Severity</th>\n",
              "      <td id=\"T_dd0ea_row0_col0\" class=\"data row0 col0\" >1.000000</td>\n",
              "      <td id=\"T_dd0ea_row0_col1\" class=\"data row0 col1\" >0.020327</td>\n",
              "      <td id=\"T_dd0ea_row0_col2\" class=\"data row0 col2\" >0.022293</td>\n",
              "      <td id=\"T_dd0ea_row0_col3\" class=\"data row0 col3\" >0.042347</td>\n",
              "      <td id=\"T_dd0ea_row0_col4\" class=\"data row0 col4\" >0.003473</td>\n",
              "      <td id=\"T_dd0ea_row0_col5\" class=\"data row0 col5\" >0.040214</td>\n",
              "      <td id=\"T_dd0ea_row0_col6\" class=\"data row0 col6\" >0.021080</td>\n",
              "      <td id=\"T_dd0ea_row0_col7\" class=\"data row0 col7\" >0.009454</td>\n",
              "    </tr>\n",
              "    <tr>\n",
              "      <th id=\"T_dd0ea_level0_row1\" class=\"row_heading level0 row1\" >Temperature(F)</th>\n",
              "      <td id=\"T_dd0ea_row1_col0\" class=\"data row1 col0\" >0.020327</td>\n",
              "      <td id=\"T_dd0ea_row1_col1\" class=\"data row1 col1\" >1.000000</td>\n",
              "      <td id=\"T_dd0ea_row1_col2\" class=\"data row1 col2\" >0.330939</td>\n",
              "      <td id=\"T_dd0ea_row1_col3\" class=\"data row1 col3\" >0.109500</td>\n",
              "      <td id=\"T_dd0ea_row1_col4\" class=\"data row1 col4\" >0.217173</td>\n",
              "      <td id=\"T_dd0ea_row1_col5\" class=\"data row1 col5\" >0.033750</td>\n",
              "      <td id=\"T_dd0ea_row1_col6\" class=\"data row1 col6\" >0.004633</td>\n",
              "      <td id=\"T_dd0ea_row1_col7\" class=\"data row1 col7\" >0.290658</td>\n",
              "    </tr>\n",
              "    <tr>\n",
              "      <th id=\"T_dd0ea_level0_row2\" class=\"row_heading level0 row2\" >Humidity(%)</th>\n",
              "      <td id=\"T_dd0ea_row2_col0\" class=\"data row2 col0\" >0.022293</td>\n",
              "      <td id=\"T_dd0ea_row2_col1\" class=\"data row2 col1\" >0.330939</td>\n",
              "      <td id=\"T_dd0ea_row2_col2\" class=\"data row2 col2\" >1.000000</td>\n",
              "      <td id=\"T_dd0ea_row2_col3\" class=\"data row2 col3\" >0.115573</td>\n",
              "      <td id=\"T_dd0ea_row2_col4\" class=\"data row2 col4\" >0.384261</td>\n",
              "      <td id=\"T_dd0ea_row2_col5\" class=\"data row2 col5\" >0.172403</td>\n",
              "      <td id=\"T_dd0ea_row2_col6\" class=\"data row2 col6\" >0.076936</td>\n",
              "      <td id=\"T_dd0ea_row2_col7\" class=\"data row2 col7\" >0.245765</td>\n",
              "    </tr>\n",
              "    <tr>\n",
              "      <th id=\"T_dd0ea_level0_row3\" class=\"row_heading level0 row3\" >Pressure(in)</th>\n",
              "      <td id=\"T_dd0ea_row3_col0\" class=\"data row3 col0\" >0.042347</td>\n",
              "      <td id=\"T_dd0ea_row3_col1\" class=\"data row3 col1\" >0.109500</td>\n",
              "      <td id=\"T_dd0ea_row3_col2\" class=\"data row3 col2\" >0.115573</td>\n",
              "      <td id=\"T_dd0ea_row3_col3\" class=\"data row3 col3\" >1.000000</td>\n",
              "      <td id=\"T_dd0ea_row3_col4\" class=\"data row3 col4\" >0.038161</td>\n",
              "      <td id=\"T_dd0ea_row3_col5\" class=\"data row3 col5\" >0.022609</td>\n",
              "      <td id=\"T_dd0ea_row3_col6\" class=\"data row3 col6\" >0.016511</td>\n",
              "      <td id=\"T_dd0ea_row3_col7\" class=\"data row3 col7\" >0.030943</td>\n",
              "    </tr>\n",
              "    <tr>\n",
              "      <th id=\"T_dd0ea_level0_row4\" class=\"row_heading level0 row4\" >Visibility(mi)</th>\n",
              "      <td id=\"T_dd0ea_row4_col0\" class=\"data row4 col0\" >0.003473</td>\n",
              "      <td id=\"T_dd0ea_row4_col1\" class=\"data row4 col1\" >0.217173</td>\n",
              "      <td id=\"T_dd0ea_row4_col2\" class=\"data row4 col2\" >0.384261</td>\n",
              "      <td id=\"T_dd0ea_row4_col3\" class=\"data row4 col3\" >0.038161</td>\n",
              "      <td id=\"T_dd0ea_row4_col4\" class=\"data row4 col4\" >1.000000</td>\n",
              "      <td id=\"T_dd0ea_row4_col5\" class=\"data row4 col5\" >0.014650</td>\n",
              "      <td id=\"T_dd0ea_row4_col6\" class=\"data row4 col6\" >0.119796</td>\n",
              "      <td id=\"T_dd0ea_row4_col7\" class=\"data row4 col7\" >0.045450</td>\n",
              "    </tr>\n",
              "    <tr>\n",
              "      <th id=\"T_dd0ea_level0_row5\" class=\"row_heading level0 row5\" >Wind_Speed(mph)</th>\n",
              "      <td id=\"T_dd0ea_row5_col0\" class=\"data row5 col0\" >0.040214</td>\n",
              "      <td id=\"T_dd0ea_row5_col1\" class=\"data row5 col1\" >0.033750</td>\n",
              "      <td id=\"T_dd0ea_row5_col2\" class=\"data row5 col2\" >0.172403</td>\n",
              "      <td id=\"T_dd0ea_row5_col3\" class=\"data row5 col3\" >0.022609</td>\n",
              "      <td id=\"T_dd0ea_row5_col4\" class=\"data row5 col4\" >0.014650</td>\n",
              "      <td id=\"T_dd0ea_row5_col5\" class=\"data row5 col5\" >1.000000</td>\n",
              "      <td id=\"T_dd0ea_row5_col6\" class=\"data row5 col6\" >0.024202</td>\n",
              "      <td id=\"T_dd0ea_row5_col7\" class=\"data row5 col7\" >0.175015</td>\n",
              "    </tr>\n",
              "    <tr>\n",
              "      <th id=\"T_dd0ea_level0_row6\" class=\"row_heading level0 row6\" >Precipitation(in)</th>\n",
              "      <td id=\"T_dd0ea_row6_col0\" class=\"data row6 col0\" >0.021080</td>\n",
              "      <td id=\"T_dd0ea_row6_col1\" class=\"data row6 col1\" >0.004633</td>\n",
              "      <td id=\"T_dd0ea_row6_col2\" class=\"data row6 col2\" >0.076936</td>\n",
              "      <td id=\"T_dd0ea_row6_col3\" class=\"data row6 col3\" >0.016511</td>\n",
              "      <td id=\"T_dd0ea_row6_col4\" class=\"data row6 col4\" >0.119796</td>\n",
              "      <td id=\"T_dd0ea_row6_col5\" class=\"data row6 col5\" >0.024202</td>\n",
              "      <td id=\"T_dd0ea_row6_col6\" class=\"data row6 col6\" >1.000000</td>\n",
              "      <td id=\"T_dd0ea_row6_col7\" class=\"data row6 col7\" >0.005324</td>\n",
              "    </tr>\n",
              "    <tr>\n",
              "      <th id=\"T_dd0ea_level0_row7\" class=\"row_heading level0 row7\" >Luminosity</th>\n",
              "      <td id=\"T_dd0ea_row7_col0\" class=\"data row7 col0\" >0.009454</td>\n",
              "      <td id=\"T_dd0ea_row7_col1\" class=\"data row7 col1\" >0.290658</td>\n",
              "      <td id=\"T_dd0ea_row7_col2\" class=\"data row7 col2\" >0.245765</td>\n",
              "      <td id=\"T_dd0ea_row7_col3\" class=\"data row7 col3\" >0.030943</td>\n",
              "      <td id=\"T_dd0ea_row7_col4\" class=\"data row7 col4\" >0.045450</td>\n",
              "      <td id=\"T_dd0ea_row7_col5\" class=\"data row7 col5\" >0.175015</td>\n",
              "      <td id=\"T_dd0ea_row7_col6\" class=\"data row7 col6\" >0.005324</td>\n",
              "      <td id=\"T_dd0ea_row7_col7\" class=\"data row7 col7\" >1.000000</td>\n",
              "    </tr>\n",
              "  </tbody>\n",
              "</table>\n"
            ],
            "text/plain": [
              "<pandas.io.formats.style.Styler at 0x2147fe53080>"
            ]
          },
          "execution_count": 23,
          "metadata": {},
          "output_type": "execute_result"
        }
      ],
      "source": [
        "numerical_cols = data.select_dtypes(include=np.number).columns\n",
        "\n",
        "corr = np.abs(data[numerical_cols].corr())\n",
        "corr.style.background_gradient(cmap='coolwarm')"
      ]
    },
    {
      "cell_type": "code",
      "execution_count": null,
      "metadata": {
        "id": "Vhp_cdVn1wok",
        "outputId": "d13b4588-f760-4f29-daed-ca82b40134e6"
      },
      "outputs": [
        {
          "name": "stdout",
          "output_type": "stream",
          "text": [
            "                   Missing Count  Missing Percentage\n",
            "Precipitation(in)        2203586           28.512858\n",
            "Wind_Speed(mph)           571233            7.391355\n",
            "Visibility(mi)            177098            2.291524\n",
            "Wind_Direction            175206            2.267043\n",
            "Humidity(%)               174144            2.253301\n",
            "Weather_Condition         173459            2.244438\n",
            "Temperature(F)            163853            2.120143\n",
            "Pressure(in)              140679            1.820288\n",
            "City                         253            0.003274\n"
          ]
        }
      ],
      "source": [
        "check_missing_values(data)"
      ]
    },
    {
      "cell_type": "code",
      "execution_count": null,
      "metadata": {
        "id": "_EtneP941wok",
        "outputId": "ff369dee-e140-4174-9fa5-640a0f0476a4"
      },
      "outputs": [
        {
          "data": {
            "text/plain": [
              "Index(['Severity', 'Start_Time', 'City', 'County', 'State', 'Temperature(F)',\n",
              "       'Humidity(%)', 'Pressure(in)', 'Visibility(mi)', 'Wind_Direction',\n",
              "       'Wind_Speed(mph)', 'Precipitation(in)', 'Weather_Condition', 'Crossing',\n",
              "       'Junction', 'Station', 'Stop', 'Traffic_Signal', 'Luminosity'],\n",
              "      dtype='object')"
            ]
          },
          "execution_count": 25,
          "metadata": {},
          "output_type": "execute_result"
        }
      ],
      "source": [
        "data.columns"
      ]
    },
    {
      "cell_type": "markdown",
      "metadata": {
        "id": "ts4mlWMA1wok"
      },
      "source": [
        "# Use logistic regression on Precipitation\n",
        "To check if missingness is due to another variable"
      ]
    },
    {
      "cell_type": "code",
      "execution_count": null,
      "metadata": {
        "id": "ChMUEBP61wok",
        "outputId": "64668c08-3e4b-4682-f8c6-2d0988006578"
      },
      "outputs": [
        {
          "data": {
            "text/plain": [
              "1871"
            ]
          },
          "execution_count": 29,
          "metadata": {},
          "output_type": "execute_result"
        }
      ],
      "source": [
        "len(data['County'].unique())"
      ]
    },
    {
      "cell_type": "markdown",
      "metadata": {
        "id": "6CBE7RXg1wol"
      },
      "source": [
        "### Encoding County to get numerical values out of it using mean's severity\n",
        "First we need to clean this row as we have a lot of low occurence counties that don't have enough reccords"
      ]
    },
    {
      "cell_type": "code",
      "execution_count": null,
      "metadata": {
        "id": "ZLGazrZw1wol"
      },
      "outputs": [],
      "source": [
        "# how many rows a county must have to be kept\n",
        "threshold = 1000\n",
        "\n",
        "county_counts = data['County'].value_counts()\n",
        "counties_to_keep = county_counts[county_counts >= threshold].index\n",
        "data['County_cleaned'] = data['County'].apply(\n",
        "    lambda x: x if x in counties_to_keep else 'Unknown'\n",
        ")\n",
        "data['County_cleaned'] = data['County_cleaned'].fillna('Unknown')"
      ]
    },
    {
      "cell_type": "code",
      "execution_count": null,
      "metadata": {
        "id": "mrhFwoAJ1wol",
        "outputId": "257c57ec-51b8-42ec-9667-965187b769f9"
      },
      "outputs": [
        {
          "data": {
            "text/plain": [
              "551"
            ]
          },
          "execution_count": 31,
          "metadata": {},
          "output_type": "execute_result"
        }
      ],
      "source": [
        "len(data['County_cleaned'].unique())"
      ]
    },
    {
      "cell_type": "code",
      "execution_count": null,
      "metadata": {
        "id": "3f7QE1uR1wol",
        "outputId": "af1164ce-0246-450a-b294-a69d5ae09575"
      },
      "outputs": [
        {
          "name": "stdout",
          "output_type": "stream",
          "text": [
            "County_cleaned\n",
            "Pima            1.967502\n",
            "Williamsburg    1.983363\n",
            "Saluda          1.987490\n",
            "Georgetown      1.994065\n",
            "Pickens         1.995956\n",
            "Marlboro        1.997144\n",
            "Barnstable      2.002504\n",
            "Kandiyohi       2.003828\n",
            "Horry           2.004170\n",
            "Wichita         2.005525\n",
            "Name: Severity, dtype: float64\n",
            "County_cleaned\n",
            "Coweta              2.631253\n",
            "Ellis               2.632252\n",
            "Newton              2.639315\n",
            "St. Louis County    2.646833\n",
            "Weld                2.650890\n",
            "Tolland             2.682288\n",
            "Will                2.690105\n",
            "St. Louis City      2.699533\n",
            "Galveston           2.745704\n",
            "Windham             2.746507\n",
            "Name: Severity, dtype: float64\n"
          ]
        }
      ],
      "source": [
        "county_severity = data.groupby('County_cleaned')['Severity'].mean().sort_values()\n",
        "print(county_severity.head(10))\n",
        "print(county_severity.tail(10))"
      ]
    },
    {
      "cell_type": "markdown",
      "metadata": {
        "id": "iuGbTlaf1wol"
      },
      "source": [
        "Even with cleaning done, we can see that some counties hold a much higher severity index than others. We should thus keep this feature and target encode it without provoking data leakage."
      ]
    },
    {
      "cell_type": "code",
      "execution_count": null,
      "metadata": {
        "id": "YG0H_87S1wol",
        "outputId": "f156b11a-c50e-4e17-c1f0-b4a25daf24e8"
      },
      "outputs": [
        {
          "name": "stdout",
          "output_type": "stream",
          "text": [
            "Cramér's V between County and Severity: 0.21229810071767144\n"
          ]
        }
      ],
      "source": [
        "from scipy.stats import chi2_contingency\n",
        "\n",
        "def cramers_v(x, y):\n",
        "    confusion_matrix = pd.crosstab(x, y)\n",
        "    chi2 = chi2_contingency(confusion_matrix)[0]\n",
        "    n = confusion_matrix.sum().sum()\n",
        "    phi2 = chi2 / n\n",
        "    r,k = confusion_matrix.shape\n",
        "    phi2corr = max(0, phi2 - ((k-1)*(r-1))/(n-1))\n",
        "    rcorr = r - ((r-1)**2)/(n-1)\n",
        "    kcorr = k - ((k-1)**2)/(n-1)\n",
        "    return np.sqrt(phi2corr / min((kcorr-1), (rcorr-1)))\n",
        "\n",
        "cramers_v_score = cramers_v(data['County_cleaned'], data['Severity'])\n",
        "print(\"Cramér's V between County and Severity:\", cramers_v_score)"
      ]
    },
    {
      "cell_type": "code",
      "execution_count": null,
      "metadata": {
        "id": "EuYXurO-1wol"
      },
      "outputs": [],
      "source": [
        "data = data.drop('County', axis=1, inplace=True)"
      ]
    },
    {
      "cell_type": "markdown",
      "metadata": {
        "id": "QshARKln1wom"
      },
      "source": [
        "shows that there is an association between County and Severity but that it is low, we can thus use some sort of target encoding"
      ]
    },
    {
      "cell_type": "markdown",
      "metadata": {
        "id": "kbaW4juD1wom"
      },
      "source": [
        "## K fold implementation for target encoding future usage"
      ]
    },
    {
      "cell_type": "code",
      "execution_count": null,
      "metadata": {
        "id": "AO7RCmas1wom"
      },
      "outputs": [],
      "source": [
        "from sklearn.model_selection import KFold\n",
        "from category_encoders import TargetEncoder\n",
        "\n",
        "\n",
        "kf = KFold(n_splits=5, shuffle=True, random_state=42)\n",
        "X = data.copy()\n",
        "y = X.pop('Severity')\n",
        "X['County_encoded'] = np.nan\n",
        "for train_idx, val_idx in kf.split(X):\n",
        "    X_train_fold, X_val_fold = X.iloc[train_idx], X.iloc[val_idx]\n",
        "    y_train_fold = y.iloc[train_idx]\n",
        "    encoder = TargetEncoder(cols=['County_cleaned'])\n",
        "    encoder.fit(X_train_fold, y_train_fold)\n",
        "    X.loc[val_idx, 'County_encoded'] = encoder.transform(X.iloc[val_idx])['County_cleaned']"
      ]
    },
    {
      "cell_type": "markdown",
      "metadata": {
        "id": "s_hWJKix1wom"
      },
      "source": [
        "this way we won't introduce data leakage while trying to target the severity with the county"
      ]
    },
    {
      "cell_type": "code",
      "execution_count": null,
      "metadata": {
        "id": "g3nuiEts1wom",
        "outputId": "303274d0-7c41-4477-f3a8-f0af51759ab7"
      },
      "outputs": [
        {
          "data": {
            "text/plain": [
              "Index(['Severity', 'Start_Time', 'City', 'County', 'State', 'Temperature(F)',\n",
              "       'Humidity(%)', 'Pressure(in)', 'Visibility(mi)', 'Wind_Direction',\n",
              "       'Wind_Speed(mph)', 'Weather_Condition', 'Crossing', 'Junction',\n",
              "       'Station', 'Stop', 'Traffic_Signal', 'Luminosity', 'Missing',\n",
              "       'County_cleaned'],\n",
              "      dtype='object')"
            ]
          },
          "execution_count": 40,
          "metadata": {},
          "output_type": "execute_result"
        }
      ],
      "source": [
        "data.columns"
      ]
    },
    {
      "cell_type": "code",
      "execution_count": null,
      "metadata": {
        "id": "m0aQEfnr1wom",
        "outputId": "f52936ef-3312-476d-96e2-73dc6255ac1e"
      },
      "outputs": [
        {
          "name": "stdout",
          "output_type": "stream",
          "text": [
            "                   Missing Count  Missing Percentage\n",
            "Wind_Speed(mph)           571233            7.391355\n",
            "Visibility(mi)            177098            2.291524\n",
            "Wind_Direction            175206            2.267043\n",
            "Humidity(%)               174144            2.253301\n",
            "Weather_Condition         173459            2.244438\n",
            "Temperature(F)            163853            2.120143\n",
            "Pressure(in)              140679            1.820288\n",
            "City                         253            0.003274\n"
          ]
        }
      ],
      "source": [
        "check_missing_values(data)"
      ]
    },
    {
      "cell_type": "markdown",
      "metadata": {
        "id": "SCwqqxAl1wom"
      },
      "source": [
        "### TEST MCAR ON Wind_Speed"
      ]
    },
    {
      "cell_type": "markdown",
      "metadata": {
        "id": "VKhsyWtu1wom"
      },
      "source": [
        "most likely an issue in the code since the p value is way too low. We will have to stick with checking the correlation and VIF"
      ]
    },
    {
      "cell_type": "code",
      "execution_count": null,
      "metadata": {
        "id": "FUZ190Kv1won"
      },
      "outputs": [],
      "source": [
        "data.loc[data['Wind_Speed(mph)'].isnull()==True,'Wind_Speed(mph)_Missing']=\"Y\"\n",
        "data.loc[data['Wind_Speed(mph)'].isnull()==False,'Wind_Speed(mph)_Missing']=\"N\""
      ]
    },
    {
      "cell_type": "code",
      "execution_count": null,
      "metadata": {
        "id": "TFvS4s491won",
        "outputId": "8446ff57-f5a5-4d17-b901-de7e3fd5fc64"
      },
      "outputs": [
        {
          "data": {
            "text/plain": [
              "<Axes: >"
            ]
          },
          "execution_count": 43,
          "metadata": {},
          "output_type": "execute_result"
        },
        {
          "data": {
            "image/png": "[encoded data removed]",
            "text/plain": [
              "<Figure size 640x480 with 1 Axes>"
            ]
          },
          "metadata": {},
          "output_type": "display_data"
        }
      ],
      "source": [
        "dfassign=data.pivot(columns = 'Wind_Speed(mph)_Missing',values=['Humidity(%)'])['Humidity(%)']\n",
        "\n",
        "dfassign.boxplot(column=['Y','N'],grid=False)"
      ]
    },
    {
      "cell_type": "code",
      "execution_count": null,
      "metadata": {
        "id": "6xTjPIZf1won"
      },
      "outputs": [],
      "source": [
        "data = data.drop(\"Wind_Speed(mph)_Missing\", axis=1)"
      ]
    },
    {
      "cell_type": "markdown",
      "metadata": {
        "id": "JX8JEkbs1won"
      },
      "source": [
        "This unfortunatly indicate that wind_speed might be MAR"
      ]
    },
    {
      "cell_type": "code",
      "execution_count": null,
      "metadata": {
        "id": "qQx1cY2a1won",
        "outputId": "afdbde65-b371-4fb6-d8b0-7fae8205a078"
      },
      "outputs": [
        {
          "data": {
            "text/html": [
              "<style type=\"text/css\">\n",
              "#T_33031_row0_col0, #T_33031_row1_col1, #T_33031_row2_col2, #T_33031_row3_col3, #T_33031_row4_col4, #T_33031_row5_col5, #T_33031_row6_col6, #T_33031_row7_col7 {\n",
              "  background-color: #b40426;\n",
              "  color: #f1f1f1;\n",
              "}\n",
              "#T_33031_row0_col1, #T_33031_row0_col2, #T_33031_row0_col4, #T_33031_row0_col6, #T_33031_row1_col7, #T_33031_row4_col0, #T_33031_row4_col5, #T_33031_row5_col3 {\n",
              "  background-color: #3b4cc0;\n",
              "  color: #f1f1f1;\n",
              "}\n",
              "#T_33031_row0_col3, #T_33031_row3_col6 {\n",
              "  background-color: #4055c8;\n",
              "  color: #f1f1f1;\n",
              "}\n",
              "#T_33031_row0_col5 {\n",
              "  background-color: #4257c9;\n",
              "  color: #f1f1f1;\n",
              "}\n",
              "#T_33031_row0_col7, #T_33031_row6_col5 {\n",
              "  background-color: #6e90f2;\n",
              "  color: #f1f1f1;\n",
              "}\n",
              "#T_33031_row1_col0, #T_33031_row1_col5, #T_33031_row2_col0, #T_33031_row4_col3 {\n",
              "  background-color: #3f53c6;\n",
              "  color: #f1f1f1;\n",
              "}\n",
              "#T_33031_row1_col2 {\n",
              "  background-color: #a3c2fe;\n",
              "  color: #000000;\n",
              "}\n",
              "#T_33031_row1_col3 {\n",
              "  background-color: #5572df;\n",
              "  color: #f1f1f1;\n",
              "}\n",
              "#T_33031_row1_col4 {\n",
              "  background-color: #80a3fa;\n",
              "  color: #f1f1f1;\n",
              "}\n",
              "#T_33031_row1_col6 {\n",
              "  background-color: #98b9ff;\n",
              "  color: #000000;\n",
              "}\n",
              "#T_33031_row2_col1 {\n",
              "  background-color: #a5c3fe;\n",
              "  color: #000000;\n",
              "}\n",
              "#T_33031_row2_col3, #T_33031_row3_col2 {\n",
              "  background-color: #5875e1;\n",
              "  color: #f1f1f1;\n",
              "}\n",
              "#T_33031_row2_col4 {\n",
              "  background-color: #bad0f8;\n",
              "  color: #000000;\n",
              "}\n",
              "#T_33031_row2_col5 {\n",
              "  background-color: #6c8ff1;\n",
              "  color: #f1f1f1;\n",
              "}\n",
              "#T_33031_row2_col6 {\n",
              "  background-color: #89acfd;\n",
              "  color: #000000;\n",
              "}\n",
              "#T_33031_row2_col7, #T_33031_row3_col4, #T_33031_row7_col2 {\n",
              "  background-color: #445acc;\n",
              "  color: #f1f1f1;\n",
              "}\n",
              "#T_33031_row3_col0, #T_33031_row4_col6, #T_33031_row5_col0, #T_33031_row6_col7 {\n",
              "  background-color: #455cce;\n",
              "  color: #f1f1f1;\n",
              "}\n",
              "#T_33031_row3_col1 {\n",
              "  background-color: #5673e0;\n",
              "  color: #f1f1f1;\n",
              "}\n",
              "#T_33031_row3_col5, #T_33031_row5_col4, #T_33031_row6_col3 {\n",
              "  background-color: #3d50c3;\n",
              "  color: #f1f1f1;\n",
              "}\n",
              "#T_33031_row3_col7, #T_33031_row7_col3 {\n",
              "  background-color: #8caffe;\n",
              "  color: #000000;\n",
              "}\n",
              "#T_33031_row4_col1 {\n",
              "  background-color: #7b9ff9;\n",
              "  color: #f1f1f1;\n",
              "}\n",
              "#T_33031_row4_col2 {\n",
              "  background-color: #b6cefa;\n",
              "  color: #000000;\n",
              "}\n",
              "#T_33031_row4_col7 {\n",
              "  background-color: #4e68d8;\n",
              "  color: #f1f1f1;\n",
              "}\n",
              "#T_33031_row5_col1 {\n",
              "  background-color: #3e51c5;\n",
              "  color: #f1f1f1;\n",
              "}\n",
              "#T_33031_row5_col2 {\n",
              "  background-color: #6b8df0;\n",
              "  color: #f1f1f1;\n",
              "}\n",
              "#T_33031_row5_col6 {\n",
              "  background-color: #6f92f3;\n",
              "  color: #f1f1f1;\n",
              "}\n",
              "#T_33031_row5_col7 {\n",
              "  background-color: #4c66d6;\n",
              "  color: #f1f1f1;\n",
              "}\n",
              "#T_33031_row6_col0, #T_33031_row7_col1 {\n",
              "  background-color: #3c4ec2;\n",
              "  color: #f1f1f1;\n",
              "}\n",
              "#T_33031_row6_col1 {\n",
              "  background-color: #96b7ff;\n",
              "  color: #000000;\n",
              "}\n",
              "#T_33031_row6_col2 {\n",
              "  background-color: #85a8fc;\n",
              "  color: #f1f1f1;\n",
              "}\n",
              "#T_33031_row6_col4 {\n",
              "  background-color: #465ecf;\n",
              "  color: #f1f1f1;\n",
              "}\n",
              "#T_33031_row7_col0 {\n",
              "  background-color: #7396f5;\n",
              "  color: #f1f1f1;\n",
              "}\n",
              "#T_33031_row7_col4 {\n",
              "  background-color: #5470de;\n",
              "  color: #f1f1f1;\n",
              "}\n",
              "#T_33031_row7_col5 {\n",
              "  background-color: #506bda;\n",
              "  color: #f1f1f1;\n",
              "}\n",
              "#T_33031_row7_col6 {\n",
              "  background-color: #4a63d3;\n",
              "  color: #f1f1f1;\n",
              "}\n",
              "</style>\n",
              "<table id=\"T_33031\">\n",
              "  <thead>\n",
              "    <tr>\n",
              "      <th class=\"blank level0\" >&nbsp;</th>\n",
              "      <th id=\"T_33031_level0_col0\" class=\"col_heading level0 col0\" >Severity</th>\n",
              "      <th id=\"T_33031_level0_col1\" class=\"col_heading level0 col1\" >Temperature(F)</th>\n",
              "      <th id=\"T_33031_level0_col2\" class=\"col_heading level0 col2\" >Humidity(%)</th>\n",
              "      <th id=\"T_33031_level0_col3\" class=\"col_heading level0 col3\" >Pressure(in)</th>\n",
              "      <th id=\"T_33031_level0_col4\" class=\"col_heading level0 col4\" >Visibility(mi)</th>\n",
              "      <th id=\"T_33031_level0_col5\" class=\"col_heading level0 col5\" >Wind_Speed(mph)</th>\n",
              "      <th id=\"T_33031_level0_col6\" class=\"col_heading level0 col6\" >Luminosity</th>\n",
              "      <th id=\"T_33031_level0_col7\" class=\"col_heading level0 col7\" >Missing</th>\n",
              "    </tr>\n",
              "  </thead>\n",
              "  <tbody>\n",
              "    <tr>\n",
              "      <th id=\"T_33031_level0_row0\" class=\"row_heading level0 row0\" >Severity</th>\n",
              "      <td id=\"T_33031_row0_col0\" class=\"data row0 col0\" >1.000000</td>\n",
              "      <td id=\"T_33031_row0_col1\" class=\"data row0 col1\" >0.020327</td>\n",
              "      <td id=\"T_33031_row0_col2\" class=\"data row0 col2\" >0.022293</td>\n",
              "      <td id=\"T_33031_row0_col3\" class=\"data row0 col3\" >0.042347</td>\n",
              "      <td id=\"T_33031_row0_col4\" class=\"data row0 col4\" >0.003473</td>\n",
              "      <td id=\"T_33031_row0_col5\" class=\"data row0 col5\" >0.040214</td>\n",
              "      <td id=\"T_33031_row0_col6\" class=\"data row0 col6\" >0.009454</td>\n",
              "      <td id=\"T_33031_row0_col7\" class=\"data row0 col7\" >0.180533</td>\n",
              "    </tr>\n",
              "    <tr>\n",
              "      <th id=\"T_33031_level0_row1\" class=\"row_heading level0 row1\" >Temperature(F)</th>\n",
              "      <td id=\"T_33031_row1_col0\" class=\"data row1 col0\" >0.020327</td>\n",
              "      <td id=\"T_33031_row1_col1\" class=\"data row1 col1\" >1.000000</td>\n",
              "      <td id=\"T_33031_row1_col2\" class=\"data row1 col2\" >0.330939</td>\n",
              "      <td id=\"T_33031_row1_col3\" class=\"data row1 col3\" >0.109500</td>\n",
              "      <td id=\"T_33031_row1_col4\" class=\"data row1 col4\" >0.217173</td>\n",
              "      <td id=\"T_33031_row1_col5\" class=\"data row1 col5\" >0.033750</td>\n",
              "      <td id=\"T_33031_row1_col6\" class=\"data row1 col6\" >0.290658</td>\n",
              "      <td id=\"T_33031_row1_col7\" class=\"data row1 col7\" >0.024232</td>\n",
              "    </tr>\n",
              "    <tr>\n",
              "      <th id=\"T_33031_level0_row2\" class=\"row_heading level0 row2\" >Humidity(%)</th>\n",
              "      <td id=\"T_33031_row2_col0\" class=\"data row2 col0\" >0.022293</td>\n",
              "      <td id=\"T_33031_row2_col1\" class=\"data row2 col1\" >0.330939</td>\n",
              "      <td id=\"T_33031_row2_col2\" class=\"data row2 col2\" >1.000000</td>\n",
              "      <td id=\"T_33031_row2_col3\" class=\"data row2 col3\" >0.115573</td>\n",
              "      <td id=\"T_33031_row2_col4\" class=\"data row2 col4\" >0.384261</td>\n",
              "      <td id=\"T_33031_row2_col5\" class=\"data row2 col5\" >0.172403</td>\n",
              "      <td id=\"T_33031_row2_col6\" class=\"data row2 col6\" >0.245765</td>\n",
              "      <td id=\"T_33031_row2_col7\" class=\"data row2 col7\" >0.056448</td>\n",
              "    </tr>\n",
              "    <tr>\n",
              "      <th id=\"T_33031_level0_row3\" class=\"row_heading level0 row3\" >Pressure(in)</th>\n",
              "      <td id=\"T_33031_row3_col0\" class=\"data row3 col0\" >0.042347</td>\n",
              "      <td id=\"T_33031_row3_col1\" class=\"data row3 col1\" >0.109500</td>\n",
              "      <td id=\"T_33031_row3_col2\" class=\"data row3 col2\" >0.115573</td>\n",
              "      <td id=\"T_33031_row3_col3\" class=\"data row3 col3\" >1.000000</td>\n",
              "      <td id=\"T_33031_row3_col4\" class=\"data row3 col4\" >0.038161</td>\n",
              "      <td id=\"T_33031_row3_col5\" class=\"data row3 col5\" >0.022609</td>\n",
              "      <td id=\"T_33031_row3_col6\" class=\"data row3 col6\" >0.030943</td>\n",
              "      <td id=\"T_33031_row3_col7\" class=\"data row3 col7\" >0.266408</td>\n",
              "    </tr>\n",
              "    <tr>\n",
              "      <th id=\"T_33031_level0_row4\" class=\"row_heading level0 row4\" >Visibility(mi)</th>\n",
              "      <td id=\"T_33031_row4_col0\" class=\"data row4 col0\" >0.003473</td>\n",
              "      <td id=\"T_33031_row4_col1\" class=\"data row4 col1\" >0.217173</td>\n",
              "      <td id=\"T_33031_row4_col2\" class=\"data row4 col2\" >0.384261</td>\n",
              "      <td id=\"T_33031_row4_col3\" class=\"data row4 col3\" >0.038161</td>\n",
              "      <td id=\"T_33031_row4_col4\" class=\"data row4 col4\" >1.000000</td>\n",
              "      <td id=\"T_33031_row4_col5\" class=\"data row4 col5\" >0.014650</td>\n",
              "      <td id=\"T_33031_row4_col6\" class=\"data row4 col6\" >0.045450</td>\n",
              "      <td id=\"T_33031_row4_col7\" class=\"data row4 col7\" >0.087512</td>\n",
              "    </tr>\n",
              "    <tr>\n",
              "      <th id=\"T_33031_level0_row5\" class=\"row_heading level0 row5\" >Wind_Speed(mph)</th>\n",
              "      <td id=\"T_33031_row5_col0\" class=\"data row5 col0\" >0.040214</td>\n",
              "      <td id=\"T_33031_row5_col1\" class=\"data row5 col1\" >0.033750</td>\n",
              "      <td id=\"T_33031_row5_col2\" class=\"data row5 col2\" >0.172403</td>\n",
              "      <td id=\"T_33031_row5_col3\" class=\"data row5 col3\" >0.022609</td>\n",
              "      <td id=\"T_33031_row5_col4\" class=\"data row5 col4\" >0.014650</td>\n",
              "      <td id=\"T_33031_row5_col5\" class=\"data row5 col5\" >1.000000</td>\n",
              "      <td id=\"T_33031_row5_col6\" class=\"data row5 col6\" >0.175015</td>\n",
              "      <td id=\"T_33031_row5_col7\" class=\"data row5 col7\" >0.084818</td>\n",
              "    </tr>\n",
              "    <tr>\n",
              "      <th id=\"T_33031_level0_row6\" class=\"row_heading level0 row6\" >Luminosity</th>\n",
              "      <td id=\"T_33031_row6_col0\" class=\"data row6 col0\" >0.009454</td>\n",
              "      <td id=\"T_33031_row6_col1\" class=\"data row6 col1\" >0.290658</td>\n",
              "      <td id=\"T_33031_row6_col2\" class=\"data row6 col2\" >0.245765</td>\n",
              "      <td id=\"T_33031_row6_col3\" class=\"data row6 col3\" >0.030943</td>\n",
              "      <td id=\"T_33031_row6_col4\" class=\"data row6 col4\" >0.045450</td>\n",
              "      <td id=\"T_33031_row6_col5\" class=\"data row6 col5\" >0.175015</td>\n",
              "      <td id=\"T_33031_row6_col6\" class=\"data row6 col6\" >1.000000</td>\n",
              "      <td id=\"T_33031_row6_col7\" class=\"data row6 col7\" >0.060201</td>\n",
              "    </tr>\n",
              "    <tr>\n",
              "      <th id=\"T_33031_level0_row7\" class=\"row_heading level0 row7\" >Missing</th>\n",
              "      <td id=\"T_33031_row7_col0\" class=\"data row7 col0\" >0.180533</td>\n",
              "      <td id=\"T_33031_row7_col1\" class=\"data row7 col1\" >0.024232</td>\n",
              "      <td id=\"T_33031_row7_col2\" class=\"data row7 col2\" >0.056448</td>\n",
              "      <td id=\"T_33031_row7_col3\" class=\"data row7 col3\" >0.266408</td>\n",
              "      <td id=\"T_33031_row7_col4\" class=\"data row7 col4\" >0.087512</td>\n",
              "      <td id=\"T_33031_row7_col5\" class=\"data row7 col5\" >0.084818</td>\n",
              "      <td id=\"T_33031_row7_col6\" class=\"data row7 col6\" >0.060201</td>\n",
              "      <td id=\"T_33031_row7_col7\" class=\"data row7 col7\" >1.000000</td>\n",
              "    </tr>\n",
              "  </tbody>\n",
              "</table>\n"
            ],
            "text/plain": [
              "<pandas.io.formats.style.Styler at 0x215a33af1d0>"
            ]
          },
          "execution_count": 45,
          "metadata": {},
          "output_type": "execute_result"
        }
      ],
      "source": [
        "numerical_cols = data.select_dtypes(include=np.number).columns\n",
        "\n",
        "corr = np.abs(data[numerical_cols].corr())\n",
        "corr.style.background_gradient(cmap='coolwarm')"
      ]
    },
    {
      "cell_type": "code",
      "execution_count": null,
      "metadata": {
        "id": "CnlLqmuU1won"
      },
      "outputs": [],
      "source": [
        "data['City'] = data['City'].fillna('Unknown')"
      ]
    },
    {
      "cell_type": "markdown",
      "metadata": {
        "id": "neMeR4ni1won"
      },
      "source": [
        "## Test the imputation on Wind_speed"
      ]
    },
    {
      "cell_type": "markdown",
      "metadata": {
        "id": "ZKGvuBSN1woo"
      },
      "source": [
        "### imputation results:\n",
        "\n",
        "Multivariate imputation best score for wind speed is : R² Score: 0.0559 using features = ['Severity', 'Temperature(F)', 'Humidity(%)', 'Pressure(in)',\n",
        "       'Visibility(mi)', 'Wind_Speed(mph)', 'Precipitation(in)', 'Luminosity',\n",
        "       'County_encoded']. Unconclusive results, will try another imputation."
      ]
    },
    {
      "cell_type": "code",
      "execution_count": null,
      "metadata": {
        "id": "A0TgoP1f1woo",
        "outputId": "00c8cb89-d572-4ea1-f5b4-bccd3c785370"
      },
      "outputs": [
        {
          "data": {
            "text/html": [
              "<style type=\"text/css\">\n",
              "#T_d47af_row0_col0, #T_d47af_row1_col1, #T_d47af_row2_col2, #T_d47af_row3_col3, #T_d47af_row4_col4, #T_d47af_row5_col5, #T_d47af_row6_col6, #T_d47af_row7_col7 {\n",
              "  background-color: #b40426;\n",
              "  color: #f1f1f1;\n",
              "}\n",
              "#T_d47af_row0_col1, #T_d47af_row0_col2, #T_d47af_row0_col4, #T_d47af_row0_col6, #T_d47af_row1_col7, #T_d47af_row4_col0, #T_d47af_row4_col5, #T_d47af_row5_col3 {\n",
              "  background-color: #3b4cc0;\n",
              "  color: #f1f1f1;\n",
              "}\n",
              "#T_d47af_row0_col3, #T_d47af_row3_col6 {\n",
              "  background-color: #4055c8;\n",
              "  color: #f1f1f1;\n",
              "}\n",
              "#T_d47af_row0_col5 {\n",
              "  background-color: #4257c9;\n",
              "  color: #f1f1f1;\n",
              "}\n",
              "#T_d47af_row0_col7, #T_d47af_row6_col5 {\n",
              "  background-color: #6e90f2;\n",
              "  color: #f1f1f1;\n",
              "}\n",
              "#T_d47af_row1_col0, #T_d47af_row1_col5, #T_d47af_row2_col0, #T_d47af_row4_col3 {\n",
              "  background-color: #3f53c6;\n",
              "  color: #f1f1f1;\n",
              "}\n",
              "#T_d47af_row1_col2 {\n",
              "  background-color: #a3c2fe;\n",
              "  color: #000000;\n",
              "}\n",
              "#T_d47af_row1_col3 {\n",
              "  background-color: #5572df;\n",
              "  color: #f1f1f1;\n",
              "}\n",
              "#T_d47af_row1_col4 {\n",
              "  background-color: #80a3fa;\n",
              "  color: #f1f1f1;\n",
              "}\n",
              "#T_d47af_row1_col6 {\n",
              "  background-color: #98b9ff;\n",
              "  color: #000000;\n",
              "}\n",
              "#T_d47af_row2_col1 {\n",
              "  background-color: #a5c3fe;\n",
              "  color: #000000;\n",
              "}\n",
              "#T_d47af_row2_col3, #T_d47af_row3_col2 {\n",
              "  background-color: #5875e1;\n",
              "  color: #f1f1f1;\n",
              "}\n",
              "#T_d47af_row2_col4 {\n",
              "  background-color: #bad0f8;\n",
              "  color: #000000;\n",
              "}\n",
              "#T_d47af_row2_col5 {\n",
              "  background-color: #6c8ff1;\n",
              "  color: #f1f1f1;\n",
              "}\n",
              "#T_d47af_row2_col6 {\n",
              "  background-color: #89acfd;\n",
              "  color: #000000;\n",
              "}\n",
              "#T_d47af_row2_col7, #T_d47af_row3_col4, #T_d47af_row7_col2 {\n",
              "  background-color: #445acc;\n",
              "  color: #f1f1f1;\n",
              "}\n",
              "#T_d47af_row3_col0, #T_d47af_row4_col6, #T_d47af_row5_col0, #T_d47af_row6_col7 {\n",
              "  background-color: #455cce;\n",
              "  color: #f1f1f1;\n",
              "}\n",
              "#T_d47af_row3_col1 {\n",
              "  background-color: #5673e0;\n",
              "  color: #f1f1f1;\n",
              "}\n",
              "#T_d47af_row3_col5, #T_d47af_row5_col4, #T_d47af_row6_col3 {\n",
              "  background-color: #3d50c3;\n",
              "  color: #f1f1f1;\n",
              "}\n",
              "#T_d47af_row3_col7, #T_d47af_row7_col3 {\n",
              "  background-color: #8caffe;\n",
              "  color: #000000;\n",
              "}\n",
              "#T_d47af_row4_col1 {\n",
              "  background-color: #7b9ff9;\n",
              "  color: #f1f1f1;\n",
              "}\n",
              "#T_d47af_row4_col2 {\n",
              "  background-color: #b6cefa;\n",
              "  color: #000000;\n",
              "}\n",
              "#T_d47af_row4_col7 {\n",
              "  background-color: #4e68d8;\n",
              "  color: #f1f1f1;\n",
              "}\n",
              "#T_d47af_row5_col1 {\n",
              "  background-color: #3e51c5;\n",
              "  color: #f1f1f1;\n",
              "}\n",
              "#T_d47af_row5_col2 {\n",
              "  background-color: #6b8df0;\n",
              "  color: #f1f1f1;\n",
              "}\n",
              "#T_d47af_row5_col6 {\n",
              "  background-color: #6f92f3;\n",
              "  color: #f1f1f1;\n",
              "}\n",
              "#T_d47af_row5_col7 {\n",
              "  background-color: #4c66d6;\n",
              "  color: #f1f1f1;\n",
              "}\n",
              "#T_d47af_row6_col0, #T_d47af_row7_col1 {\n",
              "  background-color: #3c4ec2;\n",
              "  color: #f1f1f1;\n",
              "}\n",
              "#T_d47af_row6_col1 {\n",
              "  background-color: #96b7ff;\n",
              "  color: #000000;\n",
              "}\n",
              "#T_d47af_row6_col2 {\n",
              "  background-color: #85a8fc;\n",
              "  color: #f1f1f1;\n",
              "}\n",
              "#T_d47af_row6_col4 {\n",
              "  background-color: #465ecf;\n",
              "  color: #f1f1f1;\n",
              "}\n",
              "#T_d47af_row7_col0 {\n",
              "  background-color: #7396f5;\n",
              "  color: #f1f1f1;\n",
              "}\n",
              "#T_d47af_row7_col4 {\n",
              "  background-color: #5470de;\n",
              "  color: #f1f1f1;\n",
              "}\n",
              "#T_d47af_row7_col5 {\n",
              "  background-color: #506bda;\n",
              "  color: #f1f1f1;\n",
              "}\n",
              "#T_d47af_row7_col6 {\n",
              "  background-color: #4a63d3;\n",
              "  color: #f1f1f1;\n",
              "}\n",
              "</style>\n",
              "<table id=\"T_d47af\">\n",
              "  <thead>\n",
              "    <tr>\n",
              "      <th class=\"blank level0\" >&nbsp;</th>\n",
              "      <th id=\"T_d47af_level0_col0\" class=\"col_heading level0 col0\" >Severity</th>\n",
              "      <th id=\"T_d47af_level0_col1\" class=\"col_heading level0 col1\" >Temperature(F)</th>\n",
              "      <th id=\"T_d47af_level0_col2\" class=\"col_heading level0 col2\" >Humidity(%)</th>\n",
              "      <th id=\"T_d47af_level0_col3\" class=\"col_heading level0 col3\" >Pressure(in)</th>\n",
              "      <th id=\"T_d47af_level0_col4\" class=\"col_heading level0 col4\" >Visibility(mi)</th>\n",
              "      <th id=\"T_d47af_level0_col5\" class=\"col_heading level0 col5\" >Wind_Speed(mph)</th>\n",
              "      <th id=\"T_d47af_level0_col6\" class=\"col_heading level0 col6\" >Luminosity</th>\n",
              "      <th id=\"T_d47af_level0_col7\" class=\"col_heading level0 col7\" >Missing</th>\n",
              "    </tr>\n",
              "  </thead>\n",
              "  <tbody>\n",
              "    <tr>\n",
              "      <th id=\"T_d47af_level0_row0\" class=\"row_heading level0 row0\" >Severity</th>\n",
              "      <td id=\"T_d47af_row0_col0\" class=\"data row0 col0\" >1.000000</td>\n",
              "      <td id=\"T_d47af_row0_col1\" class=\"data row0 col1\" >0.020327</td>\n",
              "      <td id=\"T_d47af_row0_col2\" class=\"data row0 col2\" >0.022293</td>\n",
              "      <td id=\"T_d47af_row0_col3\" class=\"data row0 col3\" >0.042347</td>\n",
              "      <td id=\"T_d47af_row0_col4\" class=\"data row0 col4\" >0.003473</td>\n",
              "      <td id=\"T_d47af_row0_col5\" class=\"data row0 col5\" >0.040214</td>\n",
              "      <td id=\"T_d47af_row0_col6\" class=\"data row0 col6\" >0.009454</td>\n",
              "      <td id=\"T_d47af_row0_col7\" class=\"data row0 col7\" >0.180533</td>\n",
              "    </tr>\n",
              "    <tr>\n",
              "      <th id=\"T_d47af_level0_row1\" class=\"row_heading level0 row1\" >Temperature(F)</th>\n",
              "      <td id=\"T_d47af_row1_col0\" class=\"data row1 col0\" >0.020327</td>\n",
              "      <td id=\"T_d47af_row1_col1\" class=\"data row1 col1\" >1.000000</td>\n",
              "      <td id=\"T_d47af_row1_col2\" class=\"data row1 col2\" >0.330939</td>\n",
              "      <td id=\"T_d47af_row1_col3\" class=\"data row1 col3\" >0.109500</td>\n",
              "      <td id=\"T_d47af_row1_col4\" class=\"data row1 col4\" >0.217173</td>\n",
              "      <td id=\"T_d47af_row1_col5\" class=\"data row1 col5\" >0.033750</td>\n",
              "      <td id=\"T_d47af_row1_col6\" class=\"data row1 col6\" >0.290658</td>\n",
              "      <td id=\"T_d47af_row1_col7\" class=\"data row1 col7\" >0.024232</td>\n",
              "    </tr>\n",
              "    <tr>\n",
              "      <th id=\"T_d47af_level0_row2\" class=\"row_heading level0 row2\" >Humidity(%)</th>\n",
              "      <td id=\"T_d47af_row2_col0\" class=\"data row2 col0\" >0.022293</td>\n",
              "      <td id=\"T_d47af_row2_col1\" class=\"data row2 col1\" >0.330939</td>\n",
              "      <td id=\"T_d47af_row2_col2\" class=\"data row2 col2\" >1.000000</td>\n",
              "      <td id=\"T_d47af_row2_col3\" class=\"data row2 col3\" >0.115573</td>\n",
              "      <td id=\"T_d47af_row2_col4\" class=\"data row2 col4\" >0.384261</td>\n",
              "      <td id=\"T_d47af_row2_col5\" class=\"data row2 col5\" >0.172403</td>\n",
              "      <td id=\"T_d47af_row2_col6\" class=\"data row2 col6\" >0.245765</td>\n",
              "      <td id=\"T_d47af_row2_col7\" class=\"data row2 col7\" >0.056448</td>\n",
              "    </tr>\n",
              "    <tr>\n",
              "      <th id=\"T_d47af_level0_row3\" class=\"row_heading level0 row3\" >Pressure(in)</th>\n",
              "      <td id=\"T_d47af_row3_col0\" class=\"data row3 col0\" >0.042347</td>\n",
              "      <td id=\"T_d47af_row3_col1\" class=\"data row3 col1\" >0.109500</td>\n",
              "      <td id=\"T_d47af_row3_col2\" class=\"data row3 col2\" >0.115573</td>\n",
              "      <td id=\"T_d47af_row3_col3\" class=\"data row3 col3\" >1.000000</td>\n",
              "      <td id=\"T_d47af_row3_col4\" class=\"data row3 col4\" >0.038161</td>\n",
              "      <td id=\"T_d47af_row3_col5\" class=\"data row3 col5\" >0.022609</td>\n",
              "      <td id=\"T_d47af_row3_col6\" class=\"data row3 col6\" >0.030943</td>\n",
              "      <td id=\"T_d47af_row3_col7\" class=\"data row3 col7\" >0.266408</td>\n",
              "    </tr>\n",
              "    <tr>\n",
              "      <th id=\"T_d47af_level0_row4\" class=\"row_heading level0 row4\" >Visibility(mi)</th>\n",
              "      <td id=\"T_d47af_row4_col0\" class=\"data row4 col0\" >0.003473</td>\n",
              "      <td id=\"T_d47af_row4_col1\" class=\"data row4 col1\" >0.217173</td>\n",
              "      <td id=\"T_d47af_row4_col2\" class=\"data row4 col2\" >0.384261</td>\n",
              "      <td id=\"T_d47af_row4_col3\" class=\"data row4 col3\" >0.038161</td>\n",
              "      <td id=\"T_d47af_row4_col4\" class=\"data row4 col4\" >1.000000</td>\n",
              "      <td id=\"T_d47af_row4_col5\" class=\"data row4 col5\" >0.014650</td>\n",
              "      <td id=\"T_d47af_row4_col6\" class=\"data row4 col6\" >0.045450</td>\n",
              "      <td id=\"T_d47af_row4_col7\" class=\"data row4 col7\" >0.087512</td>\n",
              "    </tr>\n",
              "    <tr>\n",
              "      <th id=\"T_d47af_level0_row5\" class=\"row_heading level0 row5\" >Wind_Speed(mph)</th>\n",
              "      <td id=\"T_d47af_row5_col0\" class=\"data row5 col0\" >0.040214</td>\n",
              "      <td id=\"T_d47af_row5_col1\" class=\"data row5 col1\" >0.033750</td>\n",
              "      <td id=\"T_d47af_row5_col2\" class=\"data row5 col2\" >0.172403</td>\n",
              "      <td id=\"T_d47af_row5_col3\" class=\"data row5 col3\" >0.022609</td>\n",
              "      <td id=\"T_d47af_row5_col4\" class=\"data row5 col4\" >0.014650</td>\n",
              "      <td id=\"T_d47af_row5_col5\" class=\"data row5 col5\" >1.000000</td>\n",
              "      <td id=\"T_d47af_row5_col6\" class=\"data row5 col6\" >0.175015</td>\n",
              "      <td id=\"T_d47af_row5_col7\" class=\"data row5 col7\" >0.084818</td>\n",
              "    </tr>\n",
              "    <tr>\n",
              "      <th id=\"T_d47af_level0_row6\" class=\"row_heading level0 row6\" >Luminosity</th>\n",
              "      <td id=\"T_d47af_row6_col0\" class=\"data row6 col0\" >0.009454</td>\n",
              "      <td id=\"T_d47af_row6_col1\" class=\"data row6 col1\" >0.290658</td>\n",
              "      <td id=\"T_d47af_row6_col2\" class=\"data row6 col2\" >0.245765</td>\n",
              "      <td id=\"T_d47af_row6_col3\" class=\"data row6 col3\" >0.030943</td>\n",
              "      <td id=\"T_d47af_row6_col4\" class=\"data row6 col4\" >0.045450</td>\n",
              "      <td id=\"T_d47af_row6_col5\" class=\"data row6 col5\" >0.175015</td>\n",
              "      <td id=\"T_d47af_row6_col6\" class=\"data row6 col6\" >1.000000</td>\n",
              "      <td id=\"T_d47af_row6_col7\" class=\"data row6 col7\" >0.060201</td>\n",
              "    </tr>\n",
              "    <tr>\n",
              "      <th id=\"T_d47af_level0_row7\" class=\"row_heading level0 row7\" >Missing</th>\n",
              "      <td id=\"T_d47af_row7_col0\" class=\"data row7 col0\" >0.180533</td>\n",
              "      <td id=\"T_d47af_row7_col1\" class=\"data row7 col1\" >0.024232</td>\n",
              "      <td id=\"T_d47af_row7_col2\" class=\"data row7 col2\" >0.056448</td>\n",
              "      <td id=\"T_d47af_row7_col3\" class=\"data row7 col3\" >0.266408</td>\n",
              "      <td id=\"T_d47af_row7_col4\" class=\"data row7 col4\" >0.087512</td>\n",
              "      <td id=\"T_d47af_row7_col5\" class=\"data row7 col5\" >0.084818</td>\n",
              "      <td id=\"T_d47af_row7_col6\" class=\"data row7 col6\" >0.060201</td>\n",
              "      <td id=\"T_d47af_row7_col7\" class=\"data row7 col7\" >1.000000</td>\n",
              "    </tr>\n",
              "  </tbody>\n",
              "</table>\n"
            ],
            "text/plain": [
              "<pandas.io.formats.style.Styler at 0x215a7cc3c80>"
            ]
          },
          "execution_count": 49,
          "metadata": {},
          "output_type": "execute_result"
        }
      ],
      "source": [
        "numerical_cols = data.select_dtypes(include=np.number).columns\n",
        "corr = np.abs(data[numerical_cols].corr())\n",
        "corr.style.background_gradient(cmap='coolwarm')"
      ]
    },
    {
      "cell_type": "markdown",
      "metadata": {
        "id": "yVZXGd4Q1woo"
      },
      "source": [
        "\n",
        "\n",
        "Need to check if missisngness is correlated to each other."
      ]
    },
    {
      "cell_type": "code",
      "execution_count": null,
      "metadata": {
        "id": "dfCJdUV01woo",
        "outputId": "fd921022-58d2-400e-818e-a97221124004"
      },
      "outputs": [
        {
          "name": "stdout",
          "output_type": "stream",
          "text": [
            "Pearson correlation between missingness of A and B: 0.80\n"
          ]
        }
      ],
      "source": [
        "missing_A = data['Wind_Direction'].isnull().astype(int)\n",
        "missing_B = data['Pressure(in)'].isnull().astype(int)\n",
        "correlation = missing_A.corr(missing_B)\n",
        "print(f\"Pearson corelation between missing-ness of A and B: {correlation:.2f}\")"
      ]
    },
    {
      "cell_type": "markdown",
      "metadata": {
        "id": "kRl3oZqB1woo"
      },
      "source": [
        "By checking manually, Visibility(mi)\n",
        "Wind_Direction\n",
        "Humidity(%)\n",
        "Weather_Condition\n",
        "Temperature(F)\n",
        "Pressure(in) are all missingly correlated (absence of one is highly likey to include absence of another.) => They are all **MAR**\n",
        "\n",
        "We will thus use Multivariate imputation."
      ]
    },
    {
      "cell_type": "code",
      "execution_count": null,
      "metadata": {
        "id": "IEJ-pgku1woo"
      },
      "outputs": [],
      "source": [
        "from sklearn.experimental import enable_iterative_imputer\n",
        "from sklearn.impute import IterativeImputer\n",
        "from sklearn.linear_model import BayesianRidge\n",
        "\n",
        "cols_to_impute = ['Visibility(mi)', 'Humidity(%)', 'Temperature(F)', 'Pressure(in)', ]\n",
        "df_numeric = data[cols_to_impute]\n",
        "bounds = {\n",
        "    col: (df_numeric[col].min(), df_numeric[col].max())\n",
        "    for col in cols_to_impute\n",
        "}\n",
        "\n",
        "imputer = IterativeImputer(estimator=BayesianRidge(), max_iter=10, random_state=0)\n",
        "df_imputed = imputer.fit_transform(df_numeric)\n",
        "for i, col in enumerate(cols_to_impute):\n",
        "    df_imputed[:, i] = np.clip(\n",
        "        df_imputed[:, i],\n",
        "        bounds[col][0],\n",
        "        bounds[col][1]\n",
        "    )\n",
        "\n",
        "data[cols_to_impute] = df_imputed"
      ]
    },
    {
      "cell_type": "code",
      "execution_count": null,
      "metadata": {
        "id": "SFIthoqE1woo"
      },
      "outputs": [],
      "source": [
        "data['Wind_Direction'].fillna(data['Wind_Direction'].mode()[0], inplace=True)\n",
        "data['Weather_Condition'].fillna(data['Weather_Condition'].mode()[0], inplace=True)"
      ]
    },
    {
      "cell_type": "code",
      "execution_count": null,
      "metadata": {
        "id": "2Hb7drxs1wop",
        "outputId": "576b423a-3230-4619-9357-b65212d161ad"
      },
      "outputs": [
        {
          "name": "stdout",
          "output_type": "stream",
          "text": [
            "Index(['Severity', 'Start_Time', 'City', 'County', 'State', 'Temperature(F)',\n",
            "       'Humidity(%)', 'Pressure(in)', 'Visibility(mi)', 'Wind_Direction',\n",
            "       'Wind_Speed(mph)', 'Weather_Condition', 'Crossing', 'Junction',\n",
            "       'Station', 'Stop', 'Traffic_Signal', 'Luminosity', 'Missing',\n",
            "       'County_cleaned'],\n",
            "      dtype='object')\n"
          ]
        }
      ],
      "source": [
        "print(data.columns)"
      ]
    },
    {
      "cell_type": "markdown",
      "metadata": {
        "id": "46Y9OOOF1wop"
      },
      "source": [
        "## Outlier detection"
      ]
    },
    {
      "cell_type": "markdown",
      "metadata": {
        "id": "h-K6yLfh1wop"
      },
      "source": [
        "remove outliers for precipitation(in) using quartile per State, as most statistics change according to the state\n"
      ]
    },
    {
      "cell_type": "code",
      "execution_count": null,
      "metadata": {
        "id": "ezqYFWpA1wop"
      },
      "outputs": [],
      "source": [
        "def replace_outliers_iqr_by_state(data, column):\n",
        "    def replace_group(series):\n",
        "        Q1 = series.quantile(0.20)\n",
        "        Q3 = series.quantile(0.80)\n",
        "        IQR = Q3 - Q1\n",
        "        lower = Q1 - 1.5 * IQR\n",
        "        upper = Q3 + 1.5 * IQR\n",
        "        median = series.median()\n",
        "        series[(series < lower) | (series > upper)] = median\n",
        "        return series\n",
        "    data[column] = data.groupby('State', group_keys=False)[column].apply(replace_group)\n",
        "    return data\n",
        "variable2 = \"Pressure(in)\"\n",
        "\n",
        "data6 = replace_outliers_iqr_by_state(data.copy(), variable2)"
      ]
    },
    {
      "cell_type": "code",
      "execution_count": null,
      "metadata": {
        "id": "E97w2vWZ1wop"
      },
      "outputs": [],
      "source": [
        "variable2 = \"Temperature(F)\"\n",
        "data6 = replace_outliers_iqr_by_state(data.copy(), variable2)"
      ]
    },
    {
      "cell_type": "markdown",
      "metadata": {
        "id": "Nw1u9UnH1wop"
      },
      "source": [
        "For precipitation, made sure that not all outliers were rejected as the quartile took away waaaay too much data from precipitation since most of the values were 0. A max of 1.4 for precipitation made the most sense (find a paper to prove that point pls)"
      ]
    },
    {
      "cell_type": "code",
      "execution_count": null,
      "metadata": {
        "id": "sftLsp7H1wop"
      },
      "outputs": [],
      "source": [
        "variable2 = \"Humidity(%)\"\n",
        "data6 = replace_outliers_iqr_by_state(data.copy(), variable2)\n",
        "variable2 = \"Visibility(mi)\"\n",
        "data6 = replace_outliers_iqr_by_state(data.copy(), variable2)"
      ]
    },
    {
      "cell_type": "code",
      "execution_count": null,
      "metadata": {
        "id": "Z7Gw_fPM1wop"
      },
      "outputs": [],
      "source": [
        "data = data6"
      ]
    },
    {
      "cell_type": "code",
      "execution_count": null,
      "metadata": {
        "id": "FEYEWe9G1wop",
        "outputId": "02d4dbcf-9aea-431e-ab7d-186d1c4b7e68"
      },
      "outputs": [
        {
          "name": "stdout",
          "output_type": "stream",
          "text": [
            "                 Missing Count  Missing Percentage\n",
            "Wind_Speed(mph)         571233            7.391355\n"
          ]
        }
      ],
      "source": [
        "check_missing_values(data)"
      ]
    },
    {
      "cell_type": "code",
      "execution_count": null,
      "metadata": {
        "id": "Qk4WPgOi1woq",
        "outputId": "af555b06-279a-454c-9e54-59f06928daa0"
      },
      "outputs": [
        {
          "data": {
            "text/plain": [
              "Index(['Severity', 'Start_Time', 'City', 'State', 'Temperature(F)',\n",
              "       'Humidity(%)', 'Pressure(in)', 'Visibility(mi)', 'Wind_Direction',\n",
              "       'Wind_Speed(mph)', 'Weather_Condition', 'Crossing', 'Junction',\n",
              "       'Station', 'Stop', 'Traffic_Signal', 'Luminosity', 'County_cleaned'],\n",
              "      dtype='object')"
            ]
          },
          "execution_count": 66,
          "metadata": {},
          "output_type": "execute_result"
        }
      ],
      "source": [
        "data.columns"
      ]
    },
    {
      "cell_type": "code",
      "execution_count": null,
      "metadata": {
        "id": "sPfgGi4u1woq"
      },
      "outputs": [],
      "source": [
        "data.drop('Missing', axis=1, inplace=True)"
      ]
    },
    {
      "cell_type": "markdown",
      "metadata": {
        "id": "W7E29GZa1woq"
      },
      "source": [
        "# Succesful Imputation of wind speed"
      ]
    },
    {
      "cell_type": "code",
      "execution_count": null,
      "metadata": {
        "id": "Id7ti-V81woq",
        "outputId": "fd395dfb-5b83-415b-b5b2-6ac772a71c10"
      },
      "outputs": [
        {
          "name": "stdout",
          "output_type": "stream",
          "text": [
            "Model Intercept: 15.803899301379332\n",
            "Mean Squared Error (Training Set): 14.954833395701442\n",
            "features were  ['Humidity(%)', 'Weather_Condition', 'Temperature(F)', 'Pressure(in)', 'Wind_Direction', 'County_cleaned']\n"
          ]
        }
      ],
      "source": [
        "\n",
        "from sklearn.compose import ColumnTransformer\n",
        "from sklearn.pipeline import Pipeline\n",
        "from sklearn.metrics import mean_squared_error, r2_score\n",
        "\n",
        "def impute_wind_speed(data_clean):\n",
        "\n",
        "    data_clean = data_clean.dropna(subset=['Weather_Condition', 'Humidity(%)', 'Temperature(F)', 'Pressure(in)', 'Wind_Direction'])\n",
        "\n",
        "    train_data = data_clean.dropna(subset=['Wind_Speed(mph)'])\n",
        "\n",
        "    features = ['Humidity(%)', 'Weather_Condition', 'Temperature(F)', 'Pressure(in)', 'Wind_Direction', 'County_cleaned']\n",
        "    X_train = train_data[features].copy()\n",
        "    y_train = train_data['Wind_Speed(mph)']\n",
        "\n",
        "\n",
        "    preprocessor = ColumnTransformer(\n",
        "        transformers=[\n",
        "            ('weather', OneHotEncoder(handle_unknown='ignore'), ['Weather_Condition']),\n",
        "            ('humidity', 'passthrough', ['Humidity(%)']),\n",
        "            ('temperature', 'passthrough', ['Temperature(F)']),\n",
        "            ('pressure', 'passthrough', ['Pressure(in)']),\n",
        "            ('wind_direction', OneHotEncoder(handle_unknown='ignore'), ['Wind_Direction'])\n",
        "        ])\n",
        "\n",
        "\n",
        "    model = Pipeline(steps=[\n",
        "        ('preprocessor', preprocessor),\n",
        "        ('regressor', LinearRegression())\n",
        "    ])\n",
        "\n",
        "\n",
        "    model.fit(X_train, y_train)\n",
        "\n",
        "    print(\"Model Intercept:\", model.named_steps['regressor'].intercept_)\n",
        "\n",
        "    y_train_pred = model.predict(X_train)\n",
        "\n",
        "    r2 = r2_score(y_train, y_train_pred)\n",
        "    mse = mean_squared_error(y_train, y_train_pred)\n",
        "    print(\"Mean Squared Error (Training Set):\", mse)\n",
        "    print(\"features were \", features)\n",
        "\n",
        "    missing_data = data_clean[data_clean['Wind_Speed(mph)'].isnull()]\n",
        "    X_missing = missing_data[['Humidity(%)', 'Weather_Condition', 'Temperature(F)', 'Pressure(in)', 'Wind_Direction']]\n",
        "    predicted_wind_speed = model.predict(X_missing)\n",
        "    data_clean.loc[data_clean['Wind_Speed(mph)'].isnull(), 'Wind_Speed(mph)'] = predicted_wind_speed\n",
        "    return data_clean\n",
        "\n",
        "data2 = impute_wind_speed(data)"
      ]
    },
    {
      "cell_type": "code",
      "execution_count": null,
      "metadata": {
        "id": "ML23VvvF1woq",
        "outputId": "2c263eba-50bf-4b17-b062-57fc1aa3bbcc"
      },
      "outputs": [
        {
          "name": "stdout",
          "output_type": "stream",
          "text": [
            "Index(['Severity', 'Start_Time', 'City', 'State', 'Temperature(F)',\n",
            "       'Humidity(%)', 'Pressure(in)', 'Visibility(mi)', 'Wind_Direction',\n",
            "       'Wind_Speed(mph)', 'Weather_Condition', 'Crossing', 'Junction',\n",
            "       'Station', 'Stop', 'Traffic_Signal', 'Luminosity', 'County_cleaned'],\n",
            "      dtype='object')\n"
          ]
        }
      ],
      "source": [
        "print(data2.columns)"
      ]
    },
    {
      "cell_type": "code",
      "execution_count": null,
      "metadata": {
        "id": "ojDjZPp51woq"
      },
      "outputs": [],
      "source": [
        "data2.to_csv('data2.csv', index=False)"
      ]
    },
    {
      "cell_type": "markdown",
      "metadata": {
        "id": "rfhthwRH1woq"
      },
      "source": [
        "# Check linearity of data to know if PCA or Autoencoder would be best"
      ]
    },
    {
      "cell_type": "code",
      "execution_count": null,
      "metadata": {
        "id": "mZSxQXhq1woq"
      },
      "outputs": [],
      "source": [
        "from sklearn.linear_model import LinearRegression\n",
        "from sklearn.model_selection import train_test_split\n",
        "from sklearn.metrics import r2_score\n",
        "from sklearn.preprocessing import StandardScaler\n",
        "numerical_data = data2.select_dtypes(include=['float64', 'int64'])\n",
        "numerical_cols = numerical_data.columns\n",
        "\n",
        "\n",
        "df_num = data2[numerical_cols].dropna()\n",
        "scaler = StandardScaler()\n",
        "df_scaled = pd.DataFrame(scaler.fit_transform(df_num), columns=numerical_cols)\n",
        "\n",
        "r2_scores = {}\n",
        "\n",
        "for target in numerical_cols:\n",
        "    features = [col for col in numerical_cols if col != target]\n",
        "    X = df_scaled[features]\n",
        "    y = df_scaled[target]\n",
        "    X_train, X_test, y_train, y_test = train_test_split(X, y, test_size=0.2, random_state=42)\n",
        "    model = LinearRegression()\n",
        "    model.fit(X_train, y_train)\n",
        "    y_pred = model.predict(X_test)\n",
        "    r2 = r2_score(y_test, y_pred)\n",
        "    r2_scores[target] = r2"
      ]
    },
    {
      "cell_type": "code",
      "execution_count": null,
      "metadata": {
        "id": "XWHWE1Y21wor",
        "outputId": "5affeb06-ef6c-4e5a-f0a4-07ae0fd3e1f0"
      },
      "outputs": [
        {
          "name": "stdout",
          "output_type": "stream",
          "text": [
            "R² for predicting Severity: 0.004\n",
            "R² for predicting Temperature(F): 0.197\n",
            "R² for predicting Humidity(%): 0.185\n",
            "R² for predicting Pressure(in): 0.044\n",
            "R² for predicting Visibility(mi): 0.059\n",
            "R² for predicting Wind_Speed(mph): 0.051\n",
            "R² for predicting Luminosity: 0.126\n"
          ]
        }
      ],
      "source": [
        "for col, score in r2_scores.items():\n",
        "    print(f\"R² for predicting {col}: {score:.3f}\")"
      ]
    },
    {
      "cell_type": "markdown",
      "metadata": {
        "id": "oyi1D07X1wor"
      },
      "source": [
        "no linearity with numerical, so no PCA, use autoencoder"
      ]
    },
    {
      "cell_type": "code",
      "execution_count": null,
      "metadata": {
        "id": "wpP7CGea1wor",
        "outputId": "27b646d6-8d88-47dc-ee55-562f09545916"
      },
      "outputs": [
        {
          "name": "stdout",
          "output_type": "stream",
          "text": [
            "col  Start_Time  has  5801064\n",
            "col  City  has  13679\n",
            "col  State  has  49\n",
            "col  Wind_Direction  has  24\n",
            "col  Weather_Condition  has  144\n",
            "col  Crossing  has  2\n",
            "col  Junction  has  2\n",
            "col  Station  has  2\n",
            "col  Stop  has  2\n",
            "col  Traffic_Signal  has  2\n",
            "col  County_cleaned  has  551\n"
          ]
        }
      ],
      "source": [
        "categorical_data = data2.drop(numerical_cols, axis=1)\n",
        "for col in categorical_data.columns:\n",
        "    print(\"col \", col, \" has \", len(categorical_data[col].unique()))"
      ]
    },
    {
      "cell_type": "markdown",
      "metadata": {
        "id": "gaNdCljx1wor"
      },
      "source": [
        "## Reduce size of data due to lack of computable power"
      ]
    },
    {
      "cell_type": "markdown",
      "metadata": {
        "id": "FKIFi6bY1wor"
      },
      "source": [
        "Load the preprocessed data"
      ]
    },
    {
      "cell_type": "code",
      "execution_count": null,
      "metadata": {
        "id": "bOOBlM4y1wor"
      },
      "outputs": [],
      "source": [
        "data2 = pd.read_csv('data2.csv')"
      ]
    },
    {
      "cell_type": "markdown",
      "metadata": {
        "id": "4zImNkj11wor"
      },
      "source": [
        "K-Folding encoding"
      ]
    },
    {
      "cell_type": "code",
      "execution_count": null,
      "metadata": {
        "id": "pL31IEyR1wor"
      },
      "outputs": [],
      "source": [
        "from sklearn.model_selection import KFold\n",
        "from category_encoders import TargetEncoder\n",
        "\n",
        "kf = KFold(n_splits=5, shuffle=True, random_state=42)\n",
        "X = data2.copy()\n",
        "y = X.pop('Severity')\n",
        "\n",
        "X['K_fold_County_encoded'] = np.nan\n",
        "\n",
        "for train_idx, val_idx in kf.split(X):\n",
        "    X_train_fold, X_val_fold = X.iloc[train_idx], X.iloc[val_idx]\n",
        "    y_train_fold = y.iloc[train_idx]\n",
        "\n",
        "    encoder = TargetEncoder(cols=['County_cleaned'])\n",
        "    encoder.fit(X_train_fold, y_train_fold)\n",
        "\n",
        "    X.loc[val_idx, 'K_fold_County_encoded'] = encoder.transform(X.iloc[val_idx])['County_cleaned']"
      ]
    },
    {
      "cell_type": "code",
      "execution_count": null,
      "metadata": {
        "id": "1YWgl6y71wor",
        "outputId": "9549e2e0-9cab-4c5c-c06a-53854c615cbd"
      },
      "outputs": [
        {
          "name": "stdout",
          "output_type": "stream",
          "text": [
            "Empty DataFrame\n",
            "Columns: [Missing Count, Missing Percentage]\n",
            "Index: []\n"
          ]
        }
      ],
      "source": [
        "check_missing_values(X)"
      ]
    },
    {
      "cell_type": "code",
      "execution_count": null,
      "metadata": {
        "id": "8NlN9S8W1wor",
        "outputId": "5401fc1f-a721-4a47-892a-f2208fcab942"
      },
      "outputs": [
        {
          "name": "stdout",
          "output_type": "stream",
          "text": [
            "Index(['Severity', 'Start_Time', 'City', 'State', 'Temperature(F)',\n",
            "       'Humidity(%)', 'Pressure(in)', 'Visibility(mi)', 'Wind_Direction',\n",
            "       'Wind_Speed(mph)', 'Weather_Condition', 'Crossing', 'Junction',\n",
            "       'Station', 'Stop', 'Traffic_Signal', 'Luminosity',\n",
            "       'K_fold_County_encoded'],\n",
            "      dtype='object')\n"
          ]
        }
      ],
      "source": [
        "print(X.columns)"
      ]
    },
    {
      "cell_type": "code",
      "execution_count": null,
      "metadata": {
        "id": "_qhJVqRk1wos"
      },
      "outputs": [],
      "source": [
        "# data2['K_fold_County_encoded'] = np.nan\n",
        "data2['K_fold_County_encoded'] = X['K_fold_County_encoded']\n",
        "data2 = data2.drop(columns=['County_cleaned'])\n",
        "data2 = data2.fillna(np.mean(data2['K_fold_County_encoded']))"
      ]
    },
    {
      "cell_type": "code",
      "execution_count": null,
      "metadata": {
        "id": "I8eFjcCj1wos",
        "outputId": "1fe86229-8996-4c06-b9f8-e7b066db4d24"
      },
      "outputs": [
        {
          "name": "stdout",
          "output_type": "stream",
          "text": [
            "Index(['Severity', 'Start_Time', 'City', 'State', 'Temperature(F)',\n",
            "       'Humidity(%)', 'Pressure(in)', 'Visibility(mi)', 'Wind_Direction',\n",
            "       'Wind_Speed(mph)', 'Weather_Condition', 'Crossing', 'Junction',\n",
            "       'Station', 'Stop', 'Traffic_Signal', 'Luminosity', 'County_cleaned',\n",
            "       'K_fold_County_encoded'],\n",
            "      dtype='object') \n",
            " (7728394, 19)\n"
          ]
        }
      ],
      "source": [
        "print(data2.columns, \"\\n\", data2.shape)"
      ]
    },
    {
      "cell_type": "markdown",
      "metadata": {
        "id": "Z85qadEY1wos"
      },
      "source": [
        "# trying DBSCAN on state to reduce dataset"
      ]
    },
    {
      "cell_type": "markdown",
      "metadata": {
        "id": "Alm7c4i_1wos"
      },
      "source": [
        "Not leaving the code here but it was not successful at all"
      ]
    },
    {
      "cell_type": "markdown",
      "metadata": {
        "id": "4bLoojEz1wos"
      },
      "source": [
        "## K mean test to reduce State or county"
      ]
    },
    {
      "cell_type": "code",
      "execution_count": null,
      "metadata": {
        "id": "M--olHtn1wos"
      },
      "outputs": [],
      "source": [
        "from sklearn.cluster import KMeans\n",
        "\n",
        "state_features = data2.groupby('State').agg({\n",
        "    'Severity': ['mean', 'count'],\n",
        "    'Temperature(F)': 'mean',\n",
        "    'Humidity(%)': 'mean',\n",
        "    'Visibility(mi)': 'mean',\n",
        "}).fillna(0)\n",
        "\n",
        "state_features.columns = ['_'.join(col).strip() for col in state_features.columns.values]\n",
        "scaler = StandardScaler()\n",
        "scaled = scaler.fit_transform(state_features)\n",
        "kmeans = KMeans(n_clusters=5, random_state=42)\n",
        "clusters = kmeans.fit_predict(scaled)\n",
        "state_cluster_map = pd.Series(clusters, index=state_features.index).to_dict()\n",
        "data2['StateCluster'] = data2['State'].map(state_cluster_map)"
      ]
    },
    {
      "cell_type": "code",
      "execution_count": null,
      "metadata": {
        "id": "qi7IsBkp1wos",
        "outputId": "6d7820fd-b588-4be3-85aa-c1e5744e99a7"
      },
      "outputs": [
        {
          "data": {
            "image/png": "[encoded data removed]",
            "text/plain": [
              "<Figure size 640x480 with 1 Axes>"
            ]
          },
          "metadata": {},
          "output_type": "display_data"
        }
      ],
      "source": [
        "from sklearn.decomposition import PCA\n",
        "\n",
        "pca = PCA(n_components=2)\n",
        "pca_data = pca.fit_transform(scaled)\n",
        "plt.scatter(pca_data[:, 0], pca_data[:, 1], c=clusters, cmap='tab10')\n",
        "for i, state in enumerate(state_features.index):\n",
        "    plt.text(pca_data[i, 0], pca_data[i, 1], state, fontsize=8)\n",
        "plt.title(\"States clustered into regions\")\n",
        "plt.xlabel(\"PCA 1\")\n",
        "plt.ylabel(\"PCA 2\")\n",
        "plt.show()"
      ]
    },
    {
      "cell_type": "code",
      "execution_count": null,
      "metadata": {
        "id": "DDmbKJHm1wot",
        "outputId": "55b7eceb-d052-42fc-f1fa-dea48e8b437b"
      },
      "outputs": [
        {
          "name": "stdout",
          "output_type": "stream",
          "text": [
            "Silhouette score: 0.38\n"
          ]
        }
      ],
      "source": [
        "from sklearn.metrics import silhouette_score\n",
        "score = silhouette_score(scaled, clusters)\n",
        "print(f\"Silhouette score: {score:.2f}\")"
      ]
    },
    {
      "cell_type": "markdown",
      "metadata": {
        "id": "rxAKMwUV1wot"
      },
      "source": [
        "not the worst results, but definitly not the best. Might be usable, will test it later"
      ]
    },
    {
      "cell_type": "markdown",
      "metadata": {
        "id": "9H4dpBvt1wot"
      },
      "source": [
        "### balance the dataset, upsampling the minority according to the state to balance both severity and state\n",
        "This allows us to keep a \"plausible\" dataset since we still keep the category 2 as the major one"
      ]
    },
    {
      "cell_type": "code",
      "execution_count": null,
      "metadata": {
        "id": "7vpfbYsj1wot",
        "outputId": "1355e17d-42e7-43e1-c1ca-0ea382d451c0"
      },
      "outputs": [
        {
          "name": "stdout",
          "output_type": "stream",
          "text": [
            "\n",
            "Balanced distribution:\n",
            "Severity\n",
            "2    229579\n",
            "3    117106\n",
            "4     91246\n",
            "1     44948\n",
            "Name: count, dtype: int64\n",
            "Severity\n",
            "2    0.475438\n",
            "3    0.242516\n",
            "4    0.188962\n",
            "1    0.093083\n",
            "Name: count, dtype: float64\n",
            "Severity\n",
            "2    0.796670\n",
            "3    0.168125\n",
            "4    0.026488\n",
            "1    0.008717\n",
            "Name: count, dtype: float64\n"
          ]
        }
      ],
      "source": [
        "from sklearn.utils import resample\n",
        "def reduce_majoritary(data, target_column='Severity', balance_columns=None,\n",
        "                      max_samples_per_group=5000, upsample_minorities=True, upsample_target_counts=3000):\n",
        "    majority_class = 2\n",
        "    minority_classes = data[target_column].unique().tolist()\n",
        "    minority_classes = [cls for cls in minority_classes if cls != majority_class]\n",
        "\n",
        "    df_majority = data[data[target_column] == majority_class]\n",
        "    if balance_columns:\n",
        "        grouped = df_majority.groupby(balance_columns)\n",
        "        downsampled_groups = [\n",
        "            resample(group,\n",
        "                     replace=False,\n",
        "                     n_samples=min(len(group), max_samples_per_group),\n",
        "                     random_state=42)\n",
        "            for _, group in grouped\n",
        "        ]\n",
        "        df_majority_balanced = pd.concat(downsampled_groups)\n",
        "    else:\n",
        "        df_majority_balanced = resample(df_majority,\n",
        "                                        replace=False,\n",
        "                                        n_samples=max_samples_per_group * 10,\n",
        "                                        random_state=42)\n",
        "\n",
        "\n",
        "    minority_dfs = []\n",
        "    for cls in minority_classes:\n",
        "        df_cls = data[data[target_column] == cls]\n",
        "        if upsample_minorities:\n",
        "            target_n = upsample_target_counts if isinstance(upsample_target_counts, int) else upsample_target_counts.get(cls, len(df_cls))\n",
        "            if balance_columns:\n",
        "                grouped = df_cls.groupby(balance_columns)\n",
        "                upsampled_groups = []\n",
        "                for _, group in grouped:\n",
        "                    n_samples = min(len(group), target_n)\n",
        "                    upsampled = resample(group,\n",
        "                                         replace=True,\n",
        "                                         n_samples=n_samples,\n",
        "                                         random_state=42)\n",
        "                    upsampled_groups.append(upsampled)\n",
        "                df_cls_upsampled = pd.concat(upsampled_groups)\n",
        "            else:\n",
        "                df_cls_upsampled = resample(df_cls,\n",
        "                                            replace=True,\n",
        "                                            n_samples=target_n,\n",
        "                                            random_state=42)\n",
        "            minority_dfs.append(df_cls_upsampled)\n",
        "        else:\n",
        "            minority_dfs.append(df_cls)\n",
        "\n",
        "    final_df = pd.concat([df_majority_balanced] + minority_dfs).sample(frac=1, random_state=42).reset_index(drop=True)\n",
        "    return final_df\n",
        "\n",
        "balanced_df = reduce_majoritary(data2, target_column='Severity', balance_columns=['State'])\n",
        "\n",
        "print(\"\\nBalanced distribution:\")\n",
        "print(balanced_df['Severity'].value_counts())\n",
        "print(balanced_df['Severity'].value_counts()/balanced_df.shape[0])\n",
        "print(data2['Severity'].value_counts()/data2.shape[0])"
      ]
    },
    {
      "cell_type": "code",
      "execution_count": null,
      "metadata": {
        "id": "fx2zreyn1wow",
        "outputId": "a4c1a499-94b0-4f3b-fc8f-06162f24b288"
      },
      "outputs": [
        {
          "data": {
            "image/png": "[encoded data removed]",
            "text/plain": [
              "<Figure size 640x480 with 1 Axes>"
            ]
          },
          "metadata": {},
          "output_type": "display_data"
        },
        {
          "data": {
            "image/png": "[encoded data removed]",
            "text/plain": [
              "<Figure size 640x480 with 1 Axes>"
            ]
          },
          "metadata": {},
          "output_type": "display_data"
        },
        {
          "data": {
            "image/png": "[encoded data removed]",
            "text/plain": [
              "<Figure size 640x480 with 1 Axes>"
            ]
          },
          "metadata": {},
          "output_type": "display_data"
        },
        {
          "data": {
            "image/png": "[encoded data removed]",
            "text/plain": [
              "<Figure size 640x480 with 1 Axes>"
            ]
          },
          "metadata": {},
          "output_type": "display_data"
        }
      ],
      "source": [
        "plt.figure()\n",
        "severity_counts = data2['Severity'].value_counts()\n",
        "plt.bar(severity_counts.index, severity_counts.values)\n",
        "plt.xlabel('Severity')\n",
        "plt.ylabel('Count')\n",
        "plt.title('Severity Distribution (Original Data)')\n",
        "\n",
        "plt.figure()\n",
        "severity_counts = balanced_df['Severity'].value_counts()\n",
        "plt.bar(severity_counts.index, severity_counts.values)\n",
        "plt.xlabel('Severity')\n",
        "plt.ylabel('Count')\n",
        "plt.title('Severity Distribution (Balanced Data)')\n",
        "\n",
        "plt.figure()\n",
        "state_counts = data2['State'].value_counts()\n",
        "plt.bar(state_counts.index, state_counts.values)\n",
        "plt.xlabel('State')\n",
        "plt.ylabel('Count')\n",
        "plt.title('State Distribution (Original Data)')\n",
        "plt.xticks(rotation=90)\n",
        "\n",
        "plt.figure()\n",
        "state_counts = balanced_df['State'].value_counts()\n",
        "plt.bar(state_counts.index, state_counts.values)\n",
        "plt.xlabel('State')\n",
        "plt.ylabel('Count')\n",
        "plt.title('State Distribution (Balanced Data)')\n",
        "plt.xticks(rotation=90)\n",
        "\n",
        "plt.show()"
      ]
    },
    {
      "cell_type": "markdown",
      "metadata": {
        "id": "gQvirJw-1wow"
      },
      "source": [
        "## Use auto-encoding on categorical variables"
      ]
    },
    {
      "cell_type": "markdown",
      "metadata": {
        "id": "McBYgcW_1wow"
      },
      "source": [
        "One last VIF test"
      ]
    },
    {
      "cell_type": "code",
      "execution_count": null,
      "metadata": {
        "id": "ynoOdazh1wox",
        "outputId": "ad62f554-1fa9-4626-bf67-28b2dc2550e4"
      },
      "outputs": [
        {
          "name": "stdout",
          "output_type": "stream",
          "text": [
            "                 Feature  VIF_Factor\n",
            "0                  const  845.487887\n",
            "1               Severity    1.087767\n",
            "2         Temperature(F)    1.278045\n",
            "3            Humidity(%)    1.322365\n",
            "4           Pressure(in)    1.172406\n",
            "5         Visibility(mi)    1.133650\n",
            "6        Wind_Speed(mph)    1.065465\n",
            "7             Luminosity    1.143646\n",
            "8  K_fold_County_encoded    1.085753\n",
            "9           StateCluster    1.198154\n"
          ]
        }
      ],
      "source": [
        "numerical_cols = balanced_df.select_dtypes(include=np.number).columns\n",
        "X = balanced_df[numerical_cols].replace([np.inf, -np.inf], np.nan).dropna()\n",
        "X = sm.add_constant(X)\n",
        "vif = pd.DataFrame()\n",
        "vif[\"Feature\"] = X.columns\n",
        "vif[\"VIF_Factor\"] = [variance_inflation_factor(X.values, i) for i in range(X.shape[1])]\n",
        "\n",
        "print(vif)"
      ]
    },
    {
      "cell_type": "markdown",
      "metadata": {
        "id": "exgKjKBm1wox"
      },
      "source": [
        "Autoencoder was tested on multiple columns, here we kept some categorical columns except state and county as their encoding was shown later to be one of the best encoded features"
      ]
    },
    {
      "cell_type": "code",
      "execution_count": null,
      "metadata": {
        "id": "TPmnq1Z91wox",
        "outputId": "1f2e0492-182e-4672-ef3b-ceb10e5a2416"
      },
      "outputs": [
        {
          "name": "stdout",
          "output_type": "stream",
          "text": [
            "Epoch 1/30, Loss: 23.02\n",
            "Epoch 2/30, Loss: 1.13\n",
            "Epoch 3/30, Loss: 0.71\n",
            "Epoch 4/30, Loss: 0.46\n",
            "Epoch 5/30, Loss: 0.35\n",
            "Epoch 6/30, Loss: 0.31\n",
            "Epoch 7/30, Loss: 0.31\n",
            "Epoch 8/30, Loss: 0.31\n",
            "Epoch 9/30, Loss: 0.31\n",
            "Epoch 10/30, Loss: 0.30\n",
            "Epoch 11/30, Loss: 0.30\n",
            "Epoch 12/30, Loss: 0.30\n",
            "Epoch 13/30, Loss: 0.30\n",
            "Epoch 14/30, Loss: 0.30\n",
            "Epoch 15/30, Loss: 0.30\n",
            "Epoch 16/30, Loss: 0.30\n",
            "Epoch 17/30, Loss: 0.29\n",
            "Epoch 18/30, Loss: 0.29\n",
            "Epoch 19/30, Loss: 0.29\n",
            "Epoch 20/30, Loss: 0.29\n",
            "Epoch 21/30, Loss: 0.29\n",
            "Epoch 22/30, Loss: 0.29\n",
            "Epoch 23/30, Loss: 0.29\n",
            "Epoch 24/30, Loss: 0.28\n",
            "Epoch 25/30, Loss: 0.28\n",
            "Epoch 26/30, Loss: 0.28\n",
            "Epoch 27/30, Loss: 0.28\n",
            "Epoch 28/30, Loss: 0.28\n",
            "Epoch 29/30, Loss: 0.28\n",
            "Epoch 30/30, Loss: 0.28\n"
          ]
        }
      ],
      "source": [
        "from sklearn.preprocessing import LabelEncoder, OneHotEncoder\n",
        "import torch\n",
        "from torch import nn\n",
        "from torch.utils.data import DataLoader, TensorDataset\n",
        "\n",
        "\n",
        "embedding_cols = ['City', 'Weather_Condition']\n",
        "low_card_cols = ['Crossing', 'Junction', 'Station', 'Stop', 'Traffic_Signal', 'Wind_Direction']\n",
        "\n",
        "encoders = {}\n",
        "X_embed = pd.DataFrame()\n",
        "\n",
        "for col in embedding_cols:\n",
        "    le = LabelEncoder()\n",
        "    X_embed[col] = le.fit_transform(balanced_df[col].astype(str))\n",
        "    encoders[col] = le\n",
        "\n",
        "ohe = OneHotEncoder(sparse_output=False, handle_unknown='ignore')\n",
        "X_low_card = pd.DataFrame(\n",
        "    ohe.fit_transform(balanced_df[low_card_cols]),\n",
        "    columns=ohe.get_feature_names_out(low_card_cols)\n",
        ")\n",
        "from sklearn.preprocessing import MinMaxScaler\n",
        "\n",
        "\n",
        "X_total = pd.concat([X_embed.reset_index(drop=True), X_low_card.reset_index(drop=True)], axis=1)\n",
        "\n",
        "scaler = MinMaxScaler()\n",
        "X_scaled = pd.DataFrame(scaler.fit_transform(X_total), columns=X_total.columns)\n",
        "X_tensor = torch.tensor(X_scaled.values, dtype=torch.float32)\n",
        "\n",
        "dataset = TensorDataset(X_tensor)\n",
        "dataloader = DataLoader(dataset, batch_size=512, shuffle=True)\n",
        "\n",
        "class Autoencoder(nn.Module):\n",
        "    def __init__(self, input_dim, latent_dim=20):\n",
        "        super().__init__()\n",
        "        self.encoder = nn.Sequential(\n",
        "            nn.Linear(input_dim, 128),\n",
        "            nn.ReLU(),\n",
        "            nn.Linear(128, latent_dim)\n",
        "        )\n",
        "        self.decoder = nn.Sequential(\n",
        "            nn.Linear(latent_dim, 128),\n",
        "            nn.ReLU(),\n",
        "            nn.Linear(128, input_dim),\n",
        "            nn.Sigmoid()\n",
        "        )\n",
        "\n",
        "    def forward(self, x):\n",
        "        z = self.encoder(x)\n",
        "        return self.decoder(z), z\n",
        "\n",
        "input_dim = X_total.shape[1]\n",
        "latent_dim = 8\n",
        "model = Autoencoder(input_dim, latent_dim)\n",
        "device = torch.device(\"cuda\" if torch.cuda.is_available() else \"cpu\")\n",
        "model.to(device)\n",
        "\n",
        "criterion = nn.MSELoss()\n",
        "optimizer = torch.optim.Adam(model.parameters(), lr=1e-3)\n",
        "\n",
        "n_epochs = 30\n",
        "model.train()\n",
        "\n",
        "for epoch in range(n_epochs):\n",
        "    total_loss = 0\n",
        "    for batch in dataloader:\n",
        "        x = batch[0].to(device)\n",
        "        optimizer.zero_grad()\n",
        "        x_recon, _ = model(x)\n",
        "        loss = criterion(x_recon, x)\n",
        "        loss.backward()\n",
        "        optimizer.step()\n",
        "        total_loss += loss.item()\n",
        "\n",
        "    print(f\"Epoch {epoch+1}/{n_epochs}, Loss: {total_loss:.2f}\")\n",
        "\n",
        "model.eval()\n",
        "with torch.no_grad():\n",
        "    _, latent = model(X_tensor.to(device))\n",
        "\n",
        "X_latent = latent.cpu().numpy()\n",
        "X_latent_df = pd.DataFrame(X_latent, columns=[f'latent_{i}' for i in range(latent_dim)])"
      ]
    },
    {
      "cell_type": "code",
      "execution_count": null,
      "metadata": {
        "id": "xaYef0_h1wox"
      },
      "outputs": [],
      "source": [
        "model.eval()\n",
        "with torch.no_grad():\n",
        "    X_encoded = model.encoder(X_tensor.to(device)).cpu().numpy()\n",
        "torch.save(model.state_dict(), \"autoencoder_model.pt\")"
      ]
    },
    {
      "cell_type": "markdown",
      "metadata": {
        "id": "V5WJQjED1wox"
      },
      "source": [
        "we are going to compare the output of the autoencoder with the encoding of categorical features"
      ]
    },
    {
      "cell_type": "code",
      "execution_count": null,
      "metadata": {
        "id": "QBNpuLpk1wox",
        "outputId": "be068061-9beb-4675-bd8d-0f8d41b0d86d"
      },
      "outputs": [
        {
          "name": "stdout",
          "output_type": "stream",
          "text": [
            "Index(['Severity', 'Start_Time', 'City', 'State', 'Temperature(F)',\n",
            "       'Humidity(%)', 'Pressure(in)', 'Visibility(mi)', 'Wind_Direction',\n",
            "       'Wind_Speed(mph)', 'Weather_Condition', 'Crossing', 'Junction',\n",
            "       'Station', 'Stop', 'Traffic_Signal', 'Luminosity',\n",
            "       'K_fold_County_encoded', 'StateCluster'],\n",
            "      dtype='object')\n"
          ]
        }
      ],
      "source": [
        "print(balanced_df.columns)"
      ]
    },
    {
      "cell_type": "code",
      "execution_count": null,
      "metadata": {
        "id": "AdWJaNmK1wox",
        "outputId": "0c702dd0-f216-4837-beef-cf7253b5bd57"
      },
      "outputs": [
        {
          "name": "stdout",
          "output_type": "stream",
          "text": [
            "Index(['Crossing_True', 'Junction_True', 'Station_True', 'Stop_True',\n",
            "       'Traffic_Signal_True', 'Luminosity_0.0', 'Luminosity_0.25',\n",
            "       'Luminosity_0.5', 'Luminosity_0.75', 'Luminosity_1.0'],\n",
            "      dtype='object')\n",
            "Index(['City', 'State', 'Weather_Condition'], dtype='object')\n"
          ]
        }
      ],
      "source": [
        "embedding_cols = ['City', 'State', 'Weather_Condition']\n",
        "low_card_cols = ['Crossing', 'Junction', 'Station', 'Stop', 'Traffic_Signal', 'Luminosity']\n",
        "\n",
        "X_embed = pd.DataFrame()\n",
        "X_low_card = pd.DataFrame()\n",
        "for col in embedding_cols:\n",
        "    le = LabelEncoder()\n",
        "    X_embed[col] = le.fit_transform(balanced_df[col].astype(str))\n",
        "    encoders[col] = le\n",
        "\n",
        "low_card_encoder = OneHotEncoder(sparse_output=False, drop='if_binary')\n",
        "X_low_card = pd.DataFrame(\n",
        "    low_card_encoder.fit_transform(balanced_df[low_card_cols]),\n",
        "    columns=low_card_encoder.get_feature_names_out(low_card_cols)\n",
        ")\n",
        "\n",
        "print(X_low_card.columns)\n",
        "print(X_embed.columns)\n",
        "\n",
        "\n",
        "categorical_cols = pd.concat([X_embed.reset_index(drop=True), X_low_card.reset_index(drop=True)], axis=1)\n",
        "\n",
        "X_orig = pd.concat([balanced_df[numerical_cols], categorical_cols], axis=1)  # Merge with numerical columns\n",
        "y_orig = balanced_df['Severity']"
      ]
    },
    {
      "cell_type": "markdown",
      "metadata": {
        "id": "mw2cnXWa1wox"
      },
      "source": [
        "### RF on autoencoder only"
      ]
    },
    {
      "cell_type": "code",
      "execution_count": null,
      "metadata": {
        "id": "EtYuTINj1woy",
        "outputId": "244ee5a0-4b9c-4325-ba85-e9db602da38e"
      },
      "outputs": [
        {
          "name": "stdout",
          "output_type": "stream",
          "text": [
            "[[ 6257  1549   638   546]\n",
            " [ 5034 23729 10451  6702]\n",
            " [ 1711  6476 12173  3061]\n",
            " [ 1180  4640  2958  9471]]\n",
            "              precision    recall  f1-score   support\n",
            "\n",
            "           1       0.44      0.70      0.54      8990\n",
            "           2       0.65      0.52      0.58     45916\n",
            "           3       0.46      0.52      0.49     23421\n",
            "           4       0.48      0.52      0.50     18249\n",
            "\n",
            "    accuracy                           0.53     96576\n",
            "   macro avg       0.51      0.56      0.53     96576\n",
            "weighted avg       0.55      0.53      0.54     96576\n",
            "\n"
          ]
        }
      ],
      "source": [
        "X_train, X_test, y_train, y_test = train_test_split(X_latent_df, balanced_df['Severity'], test_size=0.2, random_state=42,  stratify=balanced_df['Severity'])\n",
        "\n",
        "clf = RandomForestClassifier(n_estimators=150, random_state=42, class_weight='balanced')\n",
        "clf.fit(X_train, y_train)\n",
        "y_pred = clf.predict(X_test)\n",
        "print(confusion_matrix(y_test, y_pred))\n",
        "print(classification_report(y_test, y_pred))"
      ]
    },
    {
      "cell_type": "code",
      "execution_count": null,
      "metadata": {
        "id": "M2qV_EJT1woy",
        "outputId": "5b82f3d6-a553-4857-f99a-89bd7e2fb60a"
      },
      "outputs": [
        {
          "name": "stderr",
          "output_type": "stream",
          "text": [
            "C:\\Users\\Lucas\\AppData\\Local\\Temp\\ipykernel_25184\\3486150758.py:18: FutureWarning: \n",
            "\n",
            "Passing `palette` without assigning `hue` is deprecated and will be removed in v0.14.0. Assign the `y` variable to `hue` and set `legend=False` for the same effect.\n",
            "\n",
            "  sns.barplot(data=feat_imp_df.head(20), x='Importance', y='Feature', palette='viridis')\n"
          ]
        },
        {
          "data": {
            "image/png": "[encoded data removed]",
            "text/plain": [
              "<Figure size 1000x600 with 1 Axes>"
            ]
          },
          "metadata": {},
          "output_type": "display_data"
        }
      ],
      "source": [
        "importances = clf.feature_importances_\n",
        "encoded_df = pd.DataFrame(X_train, columns=[f\"encoded_{i}\" for i in range(X_train.shape[1])])\n",
        "feature_names = encoded_df.columns\n",
        "\n",
        "feat_imp_df = pd.DataFrame({\n",
        "    'Feature': feature_names,\n",
        "    'Importance': importances\n",
        "}).sort_values(by='Importance', ascending=False)\n",
        "\n",
        "\n",
        "plt.figure(figsize=(10, 6))\n",
        "sns.barplot(data=feat_imp_df.head(20), x='Importance', y='Feature', palette='viridis')\n",
        "plt.title('Top 20 Feature Importances (Random Forest)')\n",
        "plt.tight_layout()\n",
        "plt.show()"
      ]
    },
    {
      "cell_type": "markdown",
      "metadata": {
        "id": "Yy7IOa2g1woy"
      },
      "source": [
        "Not too bad since we only used categorical variables with the autoencoder."
      ]
    },
    {
      "cell_type": "markdown",
      "metadata": {
        "id": "9NvjmUjL1woy"
      },
      "source": [
        "#### Using numerical values only on Random Forest"
      ]
    },
    {
      "cell_type": "code",
      "execution_count": null,
      "metadata": {
        "id": "MGGXg_Oy1woy",
        "outputId": "e4a8f480-6430-4149-bb1d-64080a845a68"
      },
      "outputs": [
        {
          "name": "stdout",
          "output_type": "stream",
          "text": [
            "[[ 6579  1960   314   137]\n",
            " [ 1247 36745  5170  2754]\n",
            " [  479 11466 10153  1323]\n",
            " [  229  5953  1436 10631]]\n",
            "              precision    recall  f1-score   support\n",
            "\n",
            "           1       0.77      0.73      0.75      8990\n",
            "           2       0.65      0.80      0.72     45916\n",
            "           3       0.59      0.43      0.50     23421\n",
            "           4       0.72      0.58      0.64     18249\n",
            "\n",
            "    accuracy                           0.66     96576\n",
            "   macro avg       0.68      0.64      0.65     96576\n",
            "weighted avg       0.66      0.66      0.66     96576\n",
            "\n"
          ]
        }
      ],
      "source": [
        "numerical_cols = numerical_cols.drop('Severity')\n",
        "X_orig = balanced_df[numerical_cols]\n",
        "\n",
        "y_orig = balanced_df['Severity']\n",
        "\n",
        "X_train, X_test, y_train, y_test = train_test_split(\n",
        "    X_orig, y_orig,\n",
        "    test_size=0.2,\n",
        "    random_state=42,\n",
        "    stratify=y_orig\n",
        ")\n",
        "\n",
        "clf = RandomForestClassifier(n_estimators=150, random_state=42, class_weight='balanced')\n",
        "clf.fit(X_train, y_train)\n",
        "y_pred = clf.predict(X_test)\n",
        "print(confusion_matrix(y_test, y_pred))\n",
        "print(classification_report(y_test, y_pred))"
      ]
    },
    {
      "cell_type": "markdown",
      "metadata": {
        "id": "lL1rUEdJ1woy"
      },
      "source": [
        "As expected, numerical alone is not that good"
      ]
    },
    {
      "cell_type": "markdown",
      "metadata": {
        "id": "TncJLxM41woy"
      },
      "source": [
        "Test RF model only using encoded categories + numerical without autoencoder With and without the Clustered State feature"
      ]
    },
    {
      "cell_type": "code",
      "execution_count": null,
      "metadata": {
        "id": "3Wh7k0841woy",
        "outputId": "58c68f26-d342-4957-baf1-afc1332d3124"
      },
      "outputs": [
        {
          "name": "stdout",
          "output_type": "stream",
          "text": [
            "[[ 6777  1842   264   107]\n",
            " [ 1264 37028  5253  2371]\n",
            " [  349  9276 12536  1260]\n",
            " [  207  5585  1579 10878]]\n",
            "              precision    recall  f1-score   support\n",
            "\n",
            "           1       0.79      0.75      0.77      8990\n",
            "           2       0.69      0.81      0.74     45916\n",
            "           3       0.64      0.54      0.58     23421\n",
            "           4       0.74      0.60      0.66     18249\n",
            "\n",
            "    accuracy                           0.70     96576\n",
            "   macro avg       0.72      0.67      0.69     96576\n",
            "weighted avg       0.70      0.70      0.69     96576\n",
            "\n"
          ]
        }
      ],
      "source": [
        "# X_combined = pd.concat([categorical_cols, balanced_df['County_cleaned']], axis=1)\n",
        "\n",
        "X_orig = pd.concat([balanced_df[numerical_cols], categorical_cols], axis=1)\n",
        "\n",
        "y_orig = balanced_df['Severity']\n",
        "\n",
        "X_train, X_test, y_train, y_test = train_test_split(\n",
        "    X_orig, y_orig,\n",
        "    test_size=0.2,\n",
        "    random_state=42,\n",
        "    stratify=y_orig\n",
        ")\n",
        "\n",
        "clf = RandomForestClassifier(n_estimators=150, random_state=42, class_weight='balanced')\n",
        "clf.fit(X_train, y_train)\n",
        "\n",
        "y_pred = clf.predict(X_test)\n",
        "print(confusion_matrix(y_test, y_pred))\n",
        "print(classification_report(y_test, y_pred))"
      ]
    },
    {
      "cell_type": "code",
      "execution_count": null,
      "metadata": {
        "id": "tfrhXxNM1woy",
        "outputId": "5f96909f-1e82-4979-903e-2d9e1d886869"
      },
      "outputs": [
        {
          "name": "stdout",
          "output_type": "stream",
          "text": [
            "[[ 6652  2018   236    84]\n",
            " [ 1198 37213  5234  2271]\n",
            " [  324 10034 11974  1089]\n",
            " [  173  6123  1628 10325]]\n",
            "              precision    recall  f1-score   support\n",
            "\n",
            "           1       0.80      0.74      0.77      8990\n",
            "           2       0.67      0.81      0.73     45916\n",
            "           3       0.63      0.51      0.56     23421\n",
            "           4       0.75      0.57      0.64     18249\n",
            "\n",
            "    accuracy                           0.69     96576\n",
            "   macro avg       0.71      0.66      0.68     96576\n",
            "weighted avg       0.69      0.69      0.68     96576\n",
            "\n"
          ]
        }
      ],
      "source": [
        "X_orig = pd.concat([balanced_df[numerical_cols], categorical_cols], axis=1)\n",
        "\n",
        "X_orig2 = X_orig.drop(['State'], axis=1)\n",
        "X_orig2 = pd.concat([X_orig2, balanced_df['StateCluster']], axis=1)\n",
        "y_orig = balanced_df['Severity']\n",
        "\n",
        "X_train, X_test, y_train, y_test = train_test_split(\n",
        "    X_orig2, y_orig,\n",
        "    test_size=0.2,\n",
        "    random_state=42,\n",
        "    stratify=y_orig\n",
        ")\n",
        "\n",
        "clf = RandomForestClassifier(n_estimators=150, random_state=42, class_weight='balanced')\n",
        "clf.fit(X_train, y_train)\n",
        "\n",
        "y_pred = clf.predict(X_test)\n",
        "print(confusion_matrix(y_test, y_pred))\n",
        "print(classification_report(y_test, y_pred))"
      ]
    },
    {
      "cell_type": "code",
      "execution_count": null,
      "metadata": {
        "id": "cp8LHPCG1woz",
        "outputId": "f1ef78d4-9439-4414-8d44-3f5ca9c3b14a"
      },
      "outputs": [
        {
          "name": "stderr",
          "output_type": "stream",
          "text": [
            "C:\\Users\\Lucas\\AppData\\Local\\Temp\\ipykernel_25184\\3340321716.py:17: FutureWarning: \n",
            "\n",
            "Passing `palette` without assigning `hue` is deprecated and will be removed in v0.14.0. Assign the `y` variable to `hue` and set `legend=False` for the same effect.\n",
            "\n",
            "  sns.barplot(data=feat_imp_df.head(20), x='Importance', y='Feature', palette='viridis')\n"
          ]
        },
        {
          "data": {
            "image/png": "[encoded data removed]",
            "text/plain": [
              "<Figure size 1000x600 with 1 Axes>"
            ]
          },
          "metadata": {},
          "output_type": "display_data"
        }
      ],
      "source": [
        "importances = clf.feature_importances_\n",
        "\n",
        "feature_names = X_train.columns\n",
        "\n",
        "feat_imp_df = pd.DataFrame({\n",
        "    'Feature': feature_names,\n",
        "    'Importance': importances\n",
        "}).sort_values(by='Importance', ascending=False)\n",
        "\n",
        "plt.figure(figsize=(10, 6))\n",
        "sns.barplot(data=feat_imp_df.head(20), x='Importance', y='Feature', palette='viridis')\n",
        "plt.title('Top 20 Feature Importances (Random Forest)')\n",
        "plt.tight_layout()\n",
        "plt.show()"
      ]
    },
    {
      "cell_type": "markdown",
      "metadata": {
        "id": "t6PaeAEm1woz"
      },
      "source": [
        "## Try fusing autoencoder on some categorical values and keep the most important values as is"
      ]
    },
    {
      "cell_type": "code",
      "execution_count": null,
      "metadata": {
        "id": "vhrHOjuL1woz",
        "outputId": "f40e17a8-81f0-492b-a760-87bd6b797c43"
      },
      "outputs": [
        {
          "name": "stdout",
          "output_type": "stream",
          "text": [
            "[[ 6271  2331   255   133]\n",
            " [ 1174 36885  5755  2102]\n",
            " [  391 10713 11338   979]\n",
            " [  256  6680  1746  9567]]\n",
            "              precision    recall  f1-score   support\n",
            "\n",
            "           1       0.77      0.70      0.73      8990\n",
            "           2       0.65      0.80      0.72     45916\n",
            "           3       0.59      0.48      0.53     23421\n",
            "           4       0.75      0.52      0.62     18249\n",
            "\n",
            "    accuracy                           0.66     96576\n",
            "   macro avg       0.69      0.63      0.65     96576\n",
            "weighted avg       0.67      0.66      0.66     96576\n",
            "\n"
          ]
        }
      ],
      "source": [
        "numerical_cols = ['Temperature(F)', 'Humidity(%)', 'Pressure(in)',\n",
        "       'Visibility(mi)', 'Wind_Speed(mph)']\n",
        "cat_cols = ['City', 'State']\n",
        "X_orig = balanced_df[numerical_cols]\n",
        "\n",
        "X_combined = pd.concat([X_latent_df, X_embed.drop(['Weather_Condition'], axis=1)], axis=1)\n",
        "X_orig = pd.concat([X_orig, X_combined], axis=1)\n",
        "\n",
        "y_orig = balanced_df['Severity']\n",
        "\n",
        "X_train, X_test, y_train, y_test = train_test_split(\n",
        "    X_orig, y_orig,\n",
        "    test_size=0.2,\n",
        "    random_state=42,\n",
        "    stratify=y_orig\n",
        ")\n",
        "\n",
        "clf = RandomForestClassifier(n_estimators=150, random_state=42, class_weight='balanced')\n",
        "clf.fit(X_train, y_train)\n",
        "\n",
        "y_pred = clf.predict(X_test)\n",
        "print(confusion_matrix(y_test, y_pred))\n",
        "print(classification_report(y_test, y_pred))"
      ]
    },
    {
      "cell_type": "code",
      "execution_count": null,
      "metadata": {
        "id": "RalIUUp81woz",
        "outputId": "6aa65622-29e8-47f5-b35d-4b5045414476"
      },
      "outputs": [
        {
          "name": "stderr",
          "output_type": "stream",
          "text": [
            "C:\\Users\\Lucas\\AppData\\Local\\Temp\\ipykernel_25184\\1179763686.py:14: FutureWarning: \n",
            "\n",
            "Passing `palette` without assigning `hue` is deprecated and will be removed in v0.14.0. Assign the `y` variable to `hue` and set `legend=False` for the same effect.\n",
            "\n",
            "  sns.barplot(data=feat_imp_df.head(20), x='Importance', y='Feature', palette='viridis')\n"
          ]
        },
        {
          "data": {
            "image/png": "[encoded data removed]",
            "text/plain": [
              "<Figure size 1000x600 with 1 Axes>"
            ]
          },
          "metadata": {},
          "output_type": "display_data"
        }
      ],
      "source": [
        "importances = clf.feature_importances_\n",
        "feature_names = X_train.columns\n",
        "feat_imp_df = pd.DataFrame({\n",
        "    'Feature': feature_names,\n",
        "    'Importance': importances\n",
        "}).sort_values(by='Importance', ascending=False)\n",
        "\n",
        "plt.figure(figsize=(10, 6))\n",
        "sns.barplot(data=feat_imp_df.head(20), x='Importance', y='Feature', palette='viridis')\n",
        "plt.title('Top 20 Feature Importances (Random Forest)')\n",
        "plt.tight_layout()\n",
        "plt.show()"
      ]
    },
    {
      "cell_type": "markdown",
      "metadata": {
        "id": "Sf-hr7Ki1woz"
      },
      "source": [
        "# Last test on RF\n",
        "Take only the top 5 features"
      ]
    },
    {
      "cell_type": "code",
      "execution_count": null,
      "metadata": {
        "id": "tMLfxmEW1woz",
        "outputId": "fb51b3c5-ba00-4cb8-cb35-55ea1be2fd6c"
      },
      "outputs": [
        {
          "name": "stdout",
          "output_type": "stream",
          "text": [
            "[[ 6832  1747   293   118]\n",
            " [ 1342 36715  5208  2651]\n",
            " [  485 10249 11381  1306]\n",
            " [  236  5469  1416 11128]]\n",
            "              precision    recall  f1-score   support\n",
            "\n",
            "           1       0.77      0.76      0.76      8990\n",
            "           2       0.68      0.80      0.73     45916\n",
            "           3       0.62      0.49      0.55     23421\n",
            "           4       0.73      0.61      0.67     18249\n",
            "\n",
            "    accuracy                           0.68     96576\n",
            "   macro avg       0.70      0.66      0.68     96576\n",
            "weighted avg       0.68      0.68      0.68     96576\n",
            "\n"
          ]
        }
      ],
      "source": [
        "# X_combined = pd.concat([categorical_cols, balanced_df['County_cleaned']], axis=1)\n",
        "\n",
        "X_orig = pd.concat([balanced_df[numerical_cols], categorical_cols], axis=1)\n",
        "kept_features = ['Temperature(F)', 'Humidity(%)', 'Pressure(in)',  'Wind_Speed(mph)', 'City', 'State', 'Weather_Condition']\n",
        "X_orig2 = X_orig[kept_features]\n",
        "X_orig2 = pd.concat([X_orig2, balanced_df['Luminosity']], axis=1)\n",
        "X_orig2 = pd.concat([X_orig2, balanced_df['K_fold_County_encoded']], axis=1)\n",
        "y_orig = balanced_df['Severity']\n",
        "X_train, X_test, y_train, y_test = train_test_split(\n",
        "    X_orig2, y_orig,\n",
        "    test_size=0.2,\n",
        "    random_state=42,\n",
        "    stratify=y_orig\n",
        ")\n",
        "\n",
        "clf = RandomForestClassifier(n_estimators=150, random_state=42, class_weight='balanced')\n",
        "clf.fit(X_train, y_train)\n",
        "y_pred = clf.predict(X_test)\n",
        "print(confusion_matrix(y_test, y_pred))\n",
        "print(classification_report(y_test, y_pred))"
      ]
    },
    {
      "cell_type": "code",
      "execution_count": null,
      "metadata": {
        "id": "RGRuC11A1woz",
        "outputId": "952f28f4-278a-4d9c-bfe7-cc1f08e2f4f0"
      },
      "outputs": [
        {
          "name": "stderr",
          "output_type": "stream",
          "text": [
            "C:\\Users\\Lucas\\AppData\\Local\\Temp\\ipykernel_25184\\2142037762.py:15: FutureWarning: \n",
            "\n",
            "Passing `palette` without assigning `hue` is deprecated and will be removed in v0.14.0. Assign the `y` variable to `hue` and set `legend=False` for the same effect.\n",
            "\n",
            "  sns.barplot(data=feat_imp_df.head(20), x='Importance', y='Feature', palette='viridis')\n"
          ]
        },
        {
          "data": {
            "image/png": "[encoded data removed]",
            "text/plain": [
              "<Figure size 1000x600 with 1 Axes>"
            ]
          },
          "metadata": {},
          "output_type": "display_data"
        }
      ],
      "source": [
        "importances = clf.feature_importances_\n",
        "feature_names = X_train.columns\n",
        "feat_imp_df = pd.DataFrame({\n",
        "    'Feature': feature_names,\n",
        "    'Importance': importances\n",
        "}).sort_values(by='Importance', ascending=False)\n",
        "\n",
        "\n",
        "plt.figure(figsize=(10, 6))\n",
        "sns.barplot(data=feat_imp_df.head(20), x='Importance', y='Feature', palette='viridis')\n",
        "plt.title('Top 20 Feature Importances (Random Forest)')\n",
        "plt.tight_layout()\n",
        "plt.show()"
      ]
    },
    {
      "cell_type": "markdown",
      "metadata": {
        "id": "vK_tYi_X1woz"
      },
      "source": [
        "# Conclusion\n",
        "\n",
        "Autoencoder almost performed as well as just encoding the variables from the random forest.\n",
        "\n",
        "Next step would be to use only one hot encoding for autoencoder to test the results, or to only put numerical data on it ?"
      ]
    },
    {
      "cell_type": "markdown",
      "metadata": {
        "id": "R5qW6MVQ1wo0"
      },
      "source": [
        "# Logistic"
      ]
    },
    {
      "cell_type": "code",
      "execution_count": null,
      "metadata": {
        "id": "YzTlrYl-1wo0",
        "outputId": "ad33f2f3-831d-4a52-fd9e-812131a35798"
      },
      "outputs": [
        {
          "name": "stdout",
          "output_type": "stream",
          "text": [
            "Index(['Temperature(F)', 'Humidity(%)', 'Pressure(in)', 'Wind_Speed(mph)',\n",
            "       'City', 'State', 'Weather_Condition', 'Luminosity',\n",
            "       'K_fold_County_encoded'],\n",
            "      dtype='object')\n"
          ]
        }
      ],
      "source": [
        "print(X_orig2.columns)"
      ]
    },
    {
      "cell_type": "code",
      "execution_count": null,
      "metadata": {
        "id": "2H9lxEZR1wo0",
        "outputId": "e85808d2-d0b8-431e-8bd4-9bf9a129152d"
      },
      "outputs": [
        {
          "name": "stdout",
          "output_type": "stream",
          "text": [
            "Index(['Crossing_True', 'Junction_True', 'Station_True', 'Stop_True',\n",
            "       'Traffic_Signal_True', 'Luminosity_0.0', 'Luminosity_0.25',\n",
            "       'Luminosity_0.5', 'Luminosity_0.75', 'Luminosity_1.0'],\n",
            "      dtype='object')\n",
            "Index(['City', 'State', 'Weather_Condition'], dtype='object')\n"
          ]
        }
      ],
      "source": [
        "embedding_cols = ['City', 'State', 'Weather_Condition']\n",
        "low_card_cols = ['Crossing', 'Junction', 'Station', 'Stop', 'Traffic_Signal', 'Luminosity']\n",
        "X_embed = pd.DataFrame()\n",
        "X_low_card = pd.DataFrame()\n",
        "for col in embedding_cols:\n",
        "    le = LabelEncoder()\n",
        "    X_embed[col] = le.fit_transform(balanced_df[col].astype(str))\n",
        "    encoders[col] = le\n",
        "\n",
        "low_card_encoder = OneHotEncoder(sparse_output=False, drop='if_binary')\n",
        "X_low_card = pd.DataFrame(\n",
        "    low_card_encoder.fit_transform(balanced_df[low_card_cols]),\n",
        "    columns=low_card_encoder.get_feature_names_out(low_card_cols)\n",
        ")\n",
        "\n",
        "print(X_low_card.columns)\n",
        "print(X_embed.columns)\n",
        "\n",
        "categorical_cols = pd.concat([X_embed.reset_index(drop=True), X_low_card.reset_index(drop=True)], axis=1)\n",
        "\n",
        "X_orig = pd.concat([balanced_df[numerical_cols], categorical_cols], axis=1)  # merge\n",
        "y_orig = balanced_df['Severity']"
      ]
    },
    {
      "cell_type": "code",
      "execution_count": null,
      "metadata": {
        "id": "YMRUPP4f1wo0",
        "outputId": "d3a38609-39ad-4a38-9b29-2006bcf6650b"
      },
      "outputs": [
        {
          "name": "stdout",
          "output_type": "stream",
          "text": [
            "Index(['Temperature(F)', 'Humidity(%)', 'Pressure(in)', 'Visibility(mi)',\n",
            "       'Wind_Speed(mph)', 'City', 'State', 'Weather_Condition',\n",
            "       'Crossing_True', 'Junction_True', 'Station_True', 'Stop_True',\n",
            "       'Traffic_Signal_True', 'Luminosity_0.0', 'Luminosity_0.25',\n",
            "       'Luminosity_0.5', 'Luminosity_0.75', 'Luminosity_1.0'],\n",
            "      dtype='object')\n"
          ]
        },
        {
          "name": "stderr",
          "output_type": "stream",
          "text": [
            "c:\\Users\\Lucas\\AppData\\Local\\Programs\\Python\\Python312\\Lib\\site-packages\\sklearn\\linear_model\\_logistic.py:1247: FutureWarning: 'multi_class' was deprecated in version 1.5 and will be removed in 1.7. From then on, it will always use 'multinomial'. Leave it to its default value to avoid this warning.\n",
            "  warnings.warn(\n"
          ]
        },
        {
          "name": "stdout",
          "output_type": "stream",
          "text": [
            "Logistic Regression:\n",
            "              precision    recall  f1-score   support\n",
            "\n",
            "           1       0.18      0.01      0.02      8990\n",
            "           2       0.48      0.99      0.64     45916\n",
            "           3       0.39      0.00      0.01     23421\n",
            "           4       0.00      0.00      0.00     18249\n",
            "\n",
            "    accuracy                           0.47     96576\n",
            "   macro avg       0.26      0.25      0.17     96576\n",
            "weighted avg       0.34      0.47      0.31     96576\n",
            "\n"
          ]
        },
        {
          "name": "stderr",
          "output_type": "stream",
          "text": [
            "c:\\Users\\Lucas\\AppData\\Local\\Programs\\Python\\Python312\\Lib\\site-packages\\sklearn\\linear_model\\_logistic.py:465: ConvergenceWarning: lbfgs failed to converge (status=1):\n",
            "STOP: TOTAL NO. of ITERATIONS REACHED LIMIT.\n",
            "\n",
            "Increase the number of iterations (max_iter) or scale the data as shown in:\n",
            "    https://scikit-learn.org/stable/modules/preprocessing.html\n",
            "Please also refer to the documentation for alternative solver options:\n",
            "    https://scikit-learn.org/stable/modules/linear_model.html#logistic-regression\n",
            "  n_iter_i = _check_optimize_result(\n",
            "c:\\Users\\Lucas\\AppData\\Local\\Programs\\Python\\Python312\\Lib\\site-packages\\sklearn\\metrics\\_classification.py:1565: UndefinedMetricWarning: Precision is ill-defined and being set to 0.0 in labels with no predicted samples. Use `zero_division` parameter to control this behavior.\n",
            "  _warn_prf(average, modifier, f\"{metric.capitalize()} is\", len(result))\n",
            "c:\\Users\\Lucas\\AppData\\Local\\Programs\\Python\\Python312\\Lib\\site-packages\\sklearn\\metrics\\_classification.py:1565: UndefinedMetricWarning: Precision is ill-defined and being set to 0.0 in labels with no predicted samples. Use `zero_division` parameter to control this behavior.\n",
            "  _warn_prf(average, modifier, f\"{metric.capitalize()} is\", len(result))\n",
            "c:\\Users\\Lucas\\AppData\\Local\\Programs\\Python\\Python312\\Lib\\site-packages\\sklearn\\metrics\\_classification.py:1565: UndefinedMetricWarning: Precision is ill-defined and being set to 0.0 in labels with no predicted samples. Use `zero_division` parameter to control this behavior.\n",
            "  _warn_prf(average, modifier, f\"{metric.capitalize()} is\", len(result))\n"
          ]
        }
      ],
      "source": [
        "scaler = StandardScaler()\n",
        "X_scaled = scaler.fit_transform(X_orig)\n",
        "# X_combined = pd.concat([X_orig, balanced_df['County_cleaned']], axis=1)\n",
        "\n",
        "X_train, X_test, y_train, y_test = train_test_split(\n",
        "    X_orig, y_orig,\n",
        "    test_size=0.2,\n",
        "    random_state=42,\n",
        "    stratify=y_orig\n",
        ")\n",
        "\n",
        "logreg_model = LogisticRegression(max_iter=1000, solver='lbfgs', multi_class='multinomial')\n",
        "print(X_train.columns)\n",
        "logreg_model.fit(X_train, y_train)\n",
        "y_pred_logreg = logreg_model.predict(X_test)\n",
        "\n",
        "print(\"Logistic Regression:\")\n",
        "print(classification_report(y_test, y_pred_logreg))"
      ]
    },
    {
      "cell_type": "markdown",
      "metadata": {
        "id": "KpeHKcu91wo0"
      },
      "source": [
        "### pretty terrible as expected, since the data isn't linear"
      ]
    },
    {
      "cell_type": "markdown",
      "metadata": {
        "id": "btz0yZ9B1wo0"
      },
      "source": [
        "# XGBoost test"
      ]
    },
    {
      "cell_type": "code",
      "execution_count": null,
      "metadata": {
        "id": "hHSD77j51wo0",
        "outputId": "c52e676c-5082-4f38-e8b1-e47bf52df74d"
      },
      "outputs": [
        {
          "name": "stderr",
          "output_type": "stream",
          "text": [
            "c:\\Users\\Lucas\\AppData\\Local\\Programs\\Python\\Python312\\Lib\\site-packages\\xgboost\\training.py:183: UserWarning: [13:25:53] WARNING: C:\\actions-runner\\_work\\xgboost\\xgboost\\src\\learner.cc:738: \n",
            "Parameters: { \"use_label_encoder\" } are not used.\n",
            "\n",
            "  bst.update(dtrain, iteration=i, fobj=obj)\n"
          ]
        }
      ],
      "source": [
        "numerical_cols = ['Temperature(F)', 'Humidity(%)', 'Pressure(in)',\n",
        "                  'Visibility(mi)', 'Wind_Speed(mph)',\n",
        "                  'Luminosity', 'K_fold_County_encoded']\n",
        "\n",
        "X_orig = balanced_df[numerical_cols]\n",
        "X_orig = pd.concat([X_orig, X_latent_df], axis=1)\n",
        "y_orig = balanced_df['Severity']\n",
        "\n",
        "# X_combined = pd.concat([X_orig, balanced_df['County_cleaned']], axis=1)\n",
        "\n",
        "X_train, X_test, y_train, y_test = train_test_split(\n",
        "    X_orig, y_orig,\n",
        "    test_size=0.2,\n",
        "    random_state=42,\n",
        "    stratify=y_orig\n",
        ")\n",
        "\n",
        "clf_xgb = xgb.XGBClassifier(\n",
        "    n_estimators=300,\n",
        "    learning_rate=0.05,\n",
        "    max_depth=6,\n",
        "    subsample=0.8,\n",
        "    colsample_bytree=0.8,\n",
        "    random_state=42,\n",
        "    objective='multi:softmax',\n",
        "    num_class=4,\n",
        "    tree_method='hist',\n",
        "    use_label_encoder=False,\n",
        "    eval_metric='mlogloss',\n",
        "    verbosity=1\n",
        ")\n",
        "\n",
        "y_train_xgb = y_train - 1\n",
        "y_test_xgb = y_test - 1\n",
        "\n",
        "clf_xgb.fit(X_train, y_train_xgb)\n",
        "\n",
        "y_pred_xgb = clf_xgb.predict(X_test)\n",
        "\n",
        "y_pred_xgb += 1"
      ]
    },
    {
      "cell_type": "code",
      "execution_count": null,
      "metadata": {
        "id": "DpX9lqhn1wo0",
        "outputId": "e263ebfc-5acc-44c8-964b-9b8330f8160b"
      },
      "outputs": [
        {
          "name": "stdout",
          "output_type": "stream",
          "text": [
            "[[ 3319  5277   242   152]\n",
            " [ 1375 37178  5336  2027]\n",
            " [  345 12584  8943  1549]\n",
            " [  281 11339  3058  3571]]\n",
            "              precision    recall  f1-score   support\n",
            "\n",
            "           1       0.62      0.37      0.46      8990\n",
            "           2       0.56      0.81      0.66     45916\n",
            "           3       0.51      0.38      0.44     23421\n",
            "           4       0.49      0.20      0.28     18249\n",
            "\n",
            "    accuracy                           0.55     96576\n",
            "   macro avg       0.55      0.44      0.46     96576\n",
            "weighted avg       0.54      0.55      0.52     96576\n",
            "\n"
          ]
        }
      ],
      "source": [
        "print(confusion_matrix(y_test, y_pred_xgb))\n",
        "print(classification_report(y_test, y_pred_xgb))"
      ]
    },
    {
      "cell_type": "markdown",
      "metadata": {
        "id": "81Uc0mFR1wo0"
      },
      "source": [
        "## Ordered Logistic Regression"
      ]
    },
    {
      "cell_type": "code",
      "execution_count": null,
      "metadata": {
        "id": "1_vPorEj1wo0",
        "outputId": "282d2a00-81b7-45a7-de49-3a119d567c4f"
      },
      "outputs": [
        {
          "name": "stdout",
          "output_type": "stream",
          "text": [
            "[[    6  8180   801     3]\n",
            " [    8 32687 13126    95]\n",
            " [    0 13292  9983   146]\n",
            " [    3  9278  8764   204]]\n",
            "              precision    recall  f1-score   support\n",
            "\n",
            "           1       0.35      0.00      0.00      8990\n",
            "           2       0.52      0.71      0.60     45916\n",
            "           3       0.31      0.43      0.36     23421\n",
            "           4       0.46      0.01      0.02     18249\n",
            "\n",
            "    accuracy                           0.44     96576\n",
            "   macro avg       0.41      0.29      0.24     96576\n",
            "weighted avg       0.44      0.44      0.37     96576\n",
            "\n"
          ]
        }
      ],
      "source": [
        "scaler = StandardScaler()\n",
        "X_scaled = scaler.fit_transform(X_orig)\n",
        "# X_combined = pd.concat([X_orig, balanced_df['County_cleaned']], axis=1)\n",
        "\n",
        "X_train, X_test, y_train, y_test = train_test_split(\n",
        "    X_orig, y_orig, test_size=0.2, random_state=42, stratify=y_orig\n",
        ")\n",
        "\n",
        "model_ord = mord.LogisticAT(alpha=1.0)\n",
        "model_ord.fit(X_train, y_train)\n",
        "y_pred = model_ord.predict(X_test)\n",
        "\n",
        "print(confusion_matrix(y_test, y_pred))\n",
        "print(classification_report(y_test, y_pred))"
      ]
    }
  ],
  "metadata": {
    "colab": {
      "provenance": []
    },
    "kernelspec": {
      "display_name": "Python 3",
      "name": "python3"
    },
    "language_info": {
      "codemirror_mode": {
        "name": "ipython",
        "version": 3
      },
      "file_extension": ".py",
      "mimetype": "text/x-python",
      "name": "python",
      "nbconvert_exporter": "python",
      "pygments_lexer": "ipython3",
      "version": "3.12.8"
    }
  },
  "nbformat": 4,
  "nbformat_minor": 0
}
